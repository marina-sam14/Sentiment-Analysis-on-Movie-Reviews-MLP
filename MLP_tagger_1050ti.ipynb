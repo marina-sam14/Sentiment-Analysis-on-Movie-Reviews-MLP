{
  "cells": [
    {
      "cell_type": "code",
      "execution_count": 3,
      "metadata": {
        "colab": {
          "base_uri": "https://localhost:8080/"
        },
        "id": "oGc0wc4sRsTJ",
        "outputId": "abcb0233-9ad0-4eda-d2da-2f07b83e86a3"
      },
      "outputs": [
        {
          "name": "stdout",
          "output_type": "stream",
          "text": [
            "Collecting pyconll\n",
            "  Using cached pyconll-3.2.0-py3-none-any.whl.metadata (8.0 kB)\n",
            "Downloading pyconll-3.2.0-py3-none-any.whl (27 kB)\n",
            "Installing collected packages: pyconll\n",
            "Successfully installed pyconll-3.2.0\n"
          ]
        }
      ],
      "source": [
        "!pip install pyconll"
      ]
    },
    {
      "cell_type": "code",
      "execution_count": null,
      "metadata": {},
      "outputs": [],
      "source": [
        "!nvidia-smi"
      ]
    },
    {
      "cell_type": "markdown",
      "metadata": {
        "id": "dqjc2FEsqdbh"
      },
      "source": [
        "# Libraries"
      ]
    },
    {
      "cell_type": "code",
      "execution_count": 7,
      "metadata": {
        "id": "UBa8CTu2Q5eR"
      },
      "outputs": [
        {
          "name": "stdout",
          "output_type": "stream",
          "text": [
            "WARNING:tensorflow:From C:\\Users\\peter\\AppData\\Local\\Packages\\PythonSoftwareFoundation.Python.3.11_qbz5n2kfra8p0\\LocalCache\\local-packages\\Python311\\site-packages\\keras\\src\\losses.py:2976: The name tf.losses.sparse_softmax_cross_entropy is deprecated. Please use tf.compat.v1.losses.sparse_softmax_cross_entropy instead.\n",
            "\n"
          ]
        }
      ],
      "source": [
        "import pyconll, keras, pickle, os, random, nltk, datetime, warnings, gc, urllib.request, zipfile\n",
        "# from collections.abc import Iterable\n",
        "from pyconll import load_from_string\n",
        "import numpy as np\n",
        "from scipy.sparse import hstack, vstack\n",
        "import matplotlib.pyplot as plt\n",
        "from gensim.models.keyedvectors import KeyedVectors\n",
        "from gensim.models import FastText\n",
        "from sklearn.feature_extraction import DictVectorizer\n",
        "from sklearn.linear_model import LogisticRegression\n",
        "from sklearn.metrics import recall_score, precision_score, classification_report, accuracy_score, confusion_matrix, f1_score\n",
        "from sklearn.model_selection import train_test_split, StratifiedKFold, KFold, GridSearchCV, learning_curve, cross_val_score\n",
        "from sklearn import preprocessing\n",
        "from keras.models import Sequential\n",
        "from keras.layers import Dense, Embedding, Flatten, BatchNormalization, Dropout, Input, Activation\n",
        "from keras.callbacks import ModelCheckpoint, EarlyStopping, TensorBoard\n",
        "# from keras.utils import np_utils\n",
        "from keras import utils\n",
        "# from sklearn.metrics.classification import UndefinedMetricWarning\n",
        "# warnings.filterwarnings(action='ignore', category=UndefinedMetricWarning)\n",
        "from sklearn.metrics import classification_report\n",
        "from numpy.random import seed\n",
        "# from tensorflow import set_random_seed\n",
        "import tensorflow"
      ]
    },
    {
      "cell_type": "code",
      "execution_count": 8,
      "metadata": {
        "id": "wUMTs2l2liaG"
      },
      "outputs": [],
      "source": [
        "def plot_learning_curve(estimator, title, X, y, ylim=None, cv=None,\n",
        "                        n_jobs=None, train_sizes=np.linspace(.1, 1.0, 5)):\n",
        "    plt.title(title)\n",
        "    if ylim is not None:\n",
        "        plt.ylim(*ylim)\n",
        "    plt.xlabel(\"Training examples\")\n",
        "    plt.ylabel(\"Accuracy\")\n",
        "    train_sizes, train_scores, test_scores = learning_curve(\n",
        "        estimator, X, y, cv=cv, n_jobs=n_jobs, train_sizes=train_sizes, scoring='accuracy')\n",
        "    train_scores_mean = np.mean(train_scores, axis=1)\n",
        "    train_scores_std = np.std(train_scores, axis=1)\n",
        "    test_scores_mean = np.mean(test_scores, axis=1)\n",
        "    test_scores_std = np.std(test_scores, axis=1)\n",
        "    plt.grid()\n",
        "\n",
        "    plt.fill_between(train_sizes, train_scores_mean - train_scores_std,\n",
        "                     train_scores_mean + train_scores_std, alpha=0.1,\n",
        "                     color=\"r\")\n",
        "    plt.fill_between(train_sizes, test_scores_mean - test_scores_std,\n",
        "                     test_scores_mean + test_scores_std, alpha=0.1, color=\"g\")\n",
        "    plt.plot(train_sizes, train_scores_mean, 'o-', color=\"r\",\n",
        "             label=\"Training score\")\n",
        "    plt.plot(train_sizes, test_scores_mean, 'o-', color=\"g\",\n",
        "             label=\"Cross-validation score\")\n",
        "\n",
        "    plt.legend(loc=\"best\")\n",
        "    return plt"
      ]
    },
    {
      "cell_type": "code",
      "execution_count": 9,
      "metadata": {
        "id": "5UZN2hOdlne0"
      },
      "outputs": [],
      "source": [
        "# def plot_confusion_matrix(f1,\n",
        "#                           cm,\n",
        "#                           target_names,\n",
        "#                           title='Confusion matrix',\n",
        "#                           cmap=None,\n",
        "#                           normalize=True,\n",
        "#                           i=1):\n",
        "#     \"\"\"\n",
        "#     given a sklearn confusion matrix (cm), make a nice plot\n",
        "\n",
        "#     Arguments\n",
        "#     ---------\n",
        "#     cm:           confusion matrix from sklearn.metrics.confusion_matrix\n",
        "\n",
        "#     target_names: given classification classes such as [0, 1, 2]\n",
        "#                   the class names, for example: ['high', 'medium', 'low']\n",
        "\n",
        "#     title:        the text to display at the top of the matrix\n",
        "\n",
        "#     cmap:         the gradient of the values displayed from matplotlib.pyplot.cm\n",
        "#                   see http://matplotlib.org/examples/color/colormaps_reference.html\n",
        "#                   plt.get_cmap('jet') or plt.cm.Blues\n",
        "\n",
        "#     normalize:    If False, plot the raw numbers\n",
        "#                   If True, plot the proportions\n",
        "\n",
        "#     Usage\n",
        "#     -----\n",
        "#     plot_confusion_matrix(cm           = cm,                  # confusion matrix created by\n",
        "#                                                               # sklearn.metrics.confusion_matrix\n",
        "#                           normalize    = True,                # show proportions\n",
        "#                           target_names = y_labels_vals,       # list of names of the classes\n",
        "#                           title        = best_estimator_name) # title of graph\n",
        "\n",
        "#     Citiation\n",
        "#     ---------\n",
        "#     http://scikit-learn.org/stable/auto_examples/model_selection/plot_confusion_matrix.html\n",
        "\n",
        "#     \"\"\"\n",
        "#     import matplotlib.pyplot as plt\n",
        "#     import numpy as np\n",
        "#     import itertools\n",
        "\n",
        "#     accuracy = np.trace(cm) / float(np.sum(cm))\n",
        "#     misclass = 1 - accuracy\n",
        "#     plt.figure(figsize=(10, 6))\n",
        "#     if cmap is None:\n",
        "#         cmap = plt.get_cmap('Blues')\n",
        "\n",
        "#     plt.imshow(cm, interpolation='nearest', cmap=cmap)\n",
        "#     plt.title(title)\n",
        "#     plt.colorbar()\n",
        "\n",
        "#     if target_names is not None:\n",
        "#         tick_marks = np.arange(len(target_names))\n",
        "#         plt.xticks(tick_marks, target_names, rotation=45)\n",
        "#         plt.yticks(tick_marks, target_names)\n",
        "\n",
        "#     if normalize:\n",
        "#         cm = cm.astype('float') / cm.sum(axis=1)[:, np.newaxis]\n",
        "\n",
        "\n",
        "#     thresh = cm.max() / 1.5 if normalize else cm.max() / 2\n",
        "#     for i, j in itertools.product(range(cm.shape[0]), range(cm.shape[1])):\n",
        "#         if normalize:\n",
        "#             plt.text(j, i, \"{:0.4f}\".format(cm[i, j]),\n",
        "#                      horizontalalignment=\"center\",\n",
        "#                      color=\"white\" if cm[i, j] > thresh else \"black\")\n",
        "#         else:\n",
        "#             plt.text(j, i, \"{:,}\".format(cm[i, j]),\n",
        "#                      horizontalalignment=\"center\",\n",
        "#                      color=\"white\" if cm[i, j] > thresh else \"black\")\n",
        "\n",
        "\n",
        "#     plt.tight_layout()\n",
        "#     plt.ylabel('True label')\n",
        "#     plt.xlabel('Predicted label\\naccuracy={:0.4f}; misclass={:0.4f}; f1-score={:0.4f}'.format(accuracy, misclass, f1))"
      ]
    },
    {
      "cell_type": "code",
      "execution_count": 46,
      "metadata": {},
      "outputs": [],
      "source": [
        "def plot_confusion_matrix(f1,\n",
        "                          cm,\n",
        "                          target_names,\n",
        "                          title='Confusion matrix',\n",
        "                          cmap=None,\n",
        "                          cmap_confusion=None,\n",
        "                          normalize=True,\n",
        "                          i=1):\n",
        "    \"\"\"\n",
        "    given a sklearn confusion matrix (cm), make a nice plot\n",
        "\n",
        "    Arguments\n",
        "    ---------\n",
        "    cm:           confusion matrix from sklearn.metrics.confusion_matrix\n",
        "\n",
        "    target_names: given classification classes such as [0, 1, 2]\n",
        "                  the class names, for example: ['high', 'medium', 'low']\n",
        "\n",
        "    title:        the text to display at the top of the matrix\n",
        "\n",
        "    cmap:         the gradient of the values displayed from matplotlib.pyplot.cm\n",
        "                  see http://matplotlib.org/examples/color/colormaps_reference.html\n",
        "                  plt.get_cmap('jet') or plt.cm.Blues\n",
        "\n",
        "    cmap_confusion: the gradient of the values displayed for the confusion matrix\n",
        "\n",
        "    normalize:    If False, plot the raw numbers\n",
        "                  If True, plot the proportions\n",
        "\n",
        "    Usage\n",
        "    -----\n",
        "    plot_confusion_matrix(cm           = cm,                  # confusion matrix created by\n",
        "                                                              # sklearn.metrics.confusion_matrix\n",
        "                          normalize    = True,                # show proportions\n",
        "                          target_names = y_labels_vals,       # list of names of the classes\n",
        "                          title        = best_estimator_name, # title of graph\n",
        "                          cmap_confusion = plt.get_cmap('Reds'))  # color map for the confusion matrix\n",
        "    \"\"\"\n",
        "\n",
        "    import matplotlib.pyplot as plt\n",
        "    import numpy as np\n",
        "    import itertools\n",
        "\n",
        "    accuracy = np.trace(cm) / float(np.sum(cm))\n",
        "    misclass = 1 - accuracy\n",
        "    plt.figure(figsize=(10, 6))\n",
        "    \n",
        "    if cmap is None:\n",
        "        cmap = plt.get_cmap('Blues')\n",
        "\n",
        "    if cmap_confusion is None:\n",
        "        cmap_confusion = plt.get_cmap('Reds')\n",
        "\n",
        "    plt.imshow(cm, interpolation='nearest', cmap=cmap_confusion)\n",
        "    plt.title(title)\n",
        "    plt.colorbar()\n",
        "\n",
        "    if target_names is not None:\n",
        "        tick_marks = np.arange(len(target_names))\n",
        "        plt.xticks(tick_marks, target_names, rotation=45)\n",
        "        plt.yticks(tick_marks, target_names)\n",
        "\n",
        "    if normalize:\n",
        "        cm = cm.astype('float') / cm.sum(axis=1)[:, np.newaxis]\n",
        "\n",
        "    thresh = cm.max() / 1.5 if normalize else cm.max() / 2\n",
        "    for i, j in itertools.product(range(cm.shape[0]), range(cm.shape[1])):\n",
        "        if normalize:\n",
        "            plt.text(j, i, \"{:0.4f}\".format(cm[i, j]),\n",
        "                     horizontalalignment=\"center\",\n",
        "                     color=\"white\" if cm[i, j] > thresh else \"black\")\n",
        "        else:\n",
        "            plt.text(j, i, \"{:,}\".format(cm[i, j]),\n",
        "                     horizontalalignment=\"center\",\n",
        "                     color=\"white\" if cm[i, j] > thresh else \"black\")\n",
        "\n",
        "    plt.tight_layout()\n",
        "    plt.ylabel('True label')\n",
        "    plt.xlabel('Predicted label\\naccuracy={:0.4f}; misclass={:0.4f}; f1-score={:0.4f}'.format(accuracy, misclass, f1))\n"
      ]
    },
    {
      "cell_type": "markdown",
      "metadata": {
        "id": "Z5hzfkq2qlBc"
      },
      "source": [
        "# Downloading Files"
      ]
    },
    {
      "cell_type": "code",
      "execution_count": 10,
      "metadata": {
        "id": "UxAK22ubjtKq"
      },
      "outputs": [],
      "source": [
        "UD_ENGLISH_TRAIN = 'en_partut-ud-train.conllu'\n",
        "UD_ENGLISH_DEV = 'en_partut-ud-dev.conllu'\n",
        "UD_ENGLISH_TEST = 'en_partut-ud-test.conllu'"
      ]
    },
    {
      "cell_type": "markdown",
      "metadata": {
        "id": "-96eRl6XarxY"
      },
      "source": [
        "[dataset repo containing statistics](https://github.com/UniversalDependencies/UD_English-ParTUT/tree/master)"
      ]
    },
    {
      "cell_type": "code",
      "execution_count": 11,
      "metadata": {
        "id": "Wv2tcnGtjuUL"
      },
      "outputs": [],
      "source": [
        "def download_files():\n",
        "    print('Downloading English treebank...')\n",
        "    urllib.request.urlretrieve('https://raw.githubusercontent.com/UniversalDependencies/UD_English-ParTUT/master/en_partut-ud-dev.conllu', 'en_partut-ud-dev.conllu')\n",
        "    urllib.request.urlretrieve('https://raw.githubusercontent.com/UniversalDependencies/UD_English-ParTUT/master/en_partut-ud-test.conllu', 'en_partut-ud-test.conllu')\n",
        "    urllib.request.urlretrieve('https://raw.githubusercontent.com/UniversalDependencies/UD_English-ParTUT/master/en_partut-ud-train.conllu', 'en_partut-ud-train.conllu')\n",
        "    print('Treebank downloaded.')\n",
        "    print('Downloading Fasttext pre-trained word embeddings...')\n",
        "    urllib.request.urlretrieve('https://dl.fbaipublicfiles.com/fasttext/vectors-english/wiki-news-300d-1M.vec.zip', 'wiki-news-300d-1M.vec.zip')\n",
        "    print('Pre-trained word embeddings downloaded.')\n",
        "    print('Extracting zip file...')\n",
        "    zip_ref = zipfile.ZipFile('wiki-news-300d-1M.vec.zip', 'r')\n",
        "    zip_ref.extractall('.')\n",
        "    zip_ref.close()\n",
        "    print('Zip file extracted.')"
      ]
    },
    {
      "cell_type": "markdown",
      "metadata": {
        "id": "SdpNVxH9U-OT"
      },
      "source": [
        "`check reachability of the host`"
      ]
    },
    {
      "cell_type": "code",
      "execution_count": 12,
      "metadata": {
        "id": "tvBouIeWU5zf"
      },
      "outputs": [],
      "source": [
        "import urllib.request\n",
        "\n",
        "url = \"https://dl.fbaipublicfiles.com/fasttext/vectors-english/wiki-news-300d-1M.vec.zip\" # Replace with your URL\n",
        "try:\n",
        "    response = urllib.request.urlopen(url)\n",
        "    # Your code to handle the successful response goes here\n",
        "except Exception as e:\n",
        "    print(f\"Error: {e}\")"
      ]
    },
    {
      "cell_type": "code",
      "execution_count": 13,
      "metadata": {
        "colab": {
          "base_uri": "https://localhost:8080/"
        },
        "id": "jFzs883Ujwyu",
        "outputId": "78d79f62-3d44-4a52-92cf-ef700c4c291c"
      },
      "outputs": [
        {
          "name": "stdout",
          "output_type": "stream",
          "text": [
            "Downloading English treebank...\n",
            "Treebank downloaded.\n",
            "Downloading Fasttext pre-trained word embeddings...\n",
            "Pre-trained word embeddings downloaded.\n",
            "Extracting zip file...\n",
            "Zip file extracted.\n"
          ]
        }
      ],
      "source": [
        "download_files()"
      ]
    },
    {
      "cell_type": "markdown",
      "metadata": {
        "id": "BFqkSzdnRVSn"
      },
      "source": [
        "## Preprocessing"
      ]
    },
    {
      "cell_type": "code",
      "execution_count": 22,
      "metadata": {
        "id": "Hbf1hcmZRYs0"
      },
      "outputs": [],
      "source": [
        "def read_conllu(path):\n",
        "    data = pyconll.load_from_file(path)\n",
        "    tagged_sentences=[]\n",
        "    t=0\n",
        "    for sentence in data:\n",
        "        tagged_sentence=[]\n",
        "        for token in sentence:\n",
        "            if token.upos:\n",
        "                t+=1\n",
        "                tagged_sentence.append((token.form.lower(), token.upos))\n",
        "        tagged_sentences.append(tagged_sentence)\n",
        "    return tagged_sentences"
      ]
    },
    {
      "cell_type": "markdown",
      "metadata": {
        "id": "Mh10CTXJXxxn"
      },
      "source": [
        "Load train, development and test set in the appropriate tagged format, tuple (word, pos-tag)"
      ]
    },
    {
      "cell_type": "code",
      "execution_count": 15,
      "metadata": {
        "id": "a212sEC3RcVD"
      },
      "outputs": [],
      "source": [
        "train_sentences = read_conllu(UD_ENGLISH_TRAIN)\n",
        "val_sentences = read_conllu(UD_ENGLISH_DEV)\n",
        "test_sentences = read_conllu(UD_ENGLISH_TEST)"
      ]
    },
    {
      "cell_type": "markdown",
      "metadata": {
        "id": "WBcZvakbwKuT"
      },
      "source": [
        "```python\n",
        "for sentence in sentences:\n",
        "    for token in sentence:\n",
        "        print(token.form, token.upos, token.xpos, token.feats, token.head, token.deps, token.misc)\n",
        "        "
      ]
    },
    {
      "cell_type": "code",
      "execution_count": 16,
      "metadata": {
        "colab": {
          "base_uri": "https://localhost:8080/"
        },
        "id": "Yg0zVkAeRfNK",
        "outputId": "972592c0-eb6e-4657-e294-6893ca8c72c7"
      },
      "outputs": [
        {
          "name": "stdout",
          "output_type": "stream",
          "text": [
            "Tagged sentences in train set:  1781\n",
            "Tagged words in train set: 43503\n",
            "========================================\n",
            "Tagged sentences in dev set:  156\n",
            "Tagged words in dev set: 2722\n",
            "========================================\n",
            "Tagged sentences in test set:  153\n",
            "Tagged words in test set: 3408\n"
          ]
        }
      ],
      "source": [
        "print(\"Tagged sentences in train set: \", len(train_sentences))\n",
        "print(\"Tagged words in train set:\", len([item for sublist in train_sentences for item in sublist]))\n",
        "print(40*'=')\n",
        "print(\"Tagged sentences in dev set: \", len(val_sentences))\n",
        "print(\"Tagged words in dev set:\", len([item for sublist in val_sentences for item in sublist]))\n",
        "print(40*'=')\n",
        "print(\"Tagged sentences in test set: \", len(test_sentences))\n",
        "print(\"Tagged words in test set:\", len([item for sublist in test_sentences for item in sublist]))"
      ]
    },
    {
      "cell_type": "code",
      "execution_count": 17,
      "metadata": {
        "colab": {
          "base_uri": "https://localhost:8080/"
        },
        "id": "gxUteU5JTZ1s",
        "outputId": "e4bb5415-befb-48f3-fa96-3488dd1786c9"
      },
      "outputs": [
        {
          "name": "stdout",
          "output_type": "stream",
          "text": [
            "[('distribution', 'NOUN'), ('of', 'ADP'), ('this', 'DET'), ('license', 'NOUN'), ('does', 'AUX'), ('not', 'PART'), ('create', 'VERB'), ('an', 'DET'), ('attorney', 'NOUN'), ('-', 'PUNCT'), ('client', 'NOUN'), ('relationship', 'NOUN'), ('.', 'PUNCT')]\n"
          ]
        }
      ],
      "source": [
        "print(train_sentences[0])"
      ]
    },
    {
      "cell_type": "code",
      "execution_count": 19,
      "metadata": {
        "id": "4ha1MBqpTa16"
      },
      "outputs": [],
      "source": [
        "def tag_sequence(sentences):\n",
        "    return [[t for w, t in sentence] for sentence in sentences]\n",
        "\n",
        "def text_sequence(sentences):\n",
        "    return [[w for w, t in sentence] for sentence in sentences]\n",
        "\n",
        "def id2word(sentences):\n",
        "    wordlist = [item for sublist in text_sequence(sentences) for item in sublist]\n",
        "    id2word = {k:v for k,v in enumerate(wordlist)}\n",
        "    return id2word\n",
        "\n",
        "def untag(tagged_sentence):\n",
        "    return [w for w, _ in tagged_sentence]\n",
        "\n",
        "def untag_pos(tagged_sentence):\n",
        "    return [t for _, t in tagged_sentence]\n",
        "\n",
        "def build_vocab(sentences):\n",
        "    vocab =set()\n",
        "    for sentence in sentences:\n",
        "        for word in untag(sentence):\n",
        "            vocab.add(word)\n",
        "    return sorted(list(vocab))\n",
        "\n",
        "def word_frequencies(sentences):\n",
        "    word_freq = {}\n",
        "    for sentence in sentences:\n",
        "        for word in untag(sentence):\n",
        "            word_freq[word] = word_freq.get(word, 0) + 1\n",
        "    return word_freq\n",
        "\n",
        "def pos_frequencies(sentences):\n",
        "    pos_freq = {}\n",
        "    for sentence in sentences:\n",
        "        for pos_tag in untag_pos(sentence):\n",
        "            pos_freq[pos_tag] = pos_freq.get(pos_tag, 0) + 1\n",
        "    return pos_freq\n",
        "\n",
        "def average_sentence_length(sentences):\n",
        "    sentence_lengths = [len(untag(sentence)) for sentence in sentences]\n",
        "    return sum(sentence_lengths) / len(sentence_lengths) if sentence_lengths else 0\n",
        "\n",
        "def plot_word_frequency_distribution(sentences):\n",
        "    import matplotlib.pyplot as plt\n",
        "    word_freq = word_frequencies(sentences)\n",
        "    sorted_word_freq = sorted(word_freq.items(), key=lambda x: x[1], reverse=True)\n",
        "    words, frequencies = zip(*sorted_word_freq)\n",
        "    \n",
        "    plt.figure(figsize=(12, 6))\n",
        "    plt.bar(words[:20], frequencies[:20])\n",
        "    plt.xlabel('Words')\n",
        "    plt.ylabel('Frequency')\n",
        "    plt.title('Top 20 Word Frequencies')\n",
        "    plt.show()\n",
        "\n",
        "def plot_pos_frequency_distribution(sentences):\n",
        "    import matplotlib.pyplot as plt\n",
        "    pos_freq = pos_frequencies(sentences)\n",
        "    sorted_pos_freq = sorted(pos_freq.items(), key=lambda x: x[1], reverse=True)\n",
        "    pos_tags, frequencies = zip(*sorted_pos_freq)\n",
        "    \n",
        "    plt.figure(figsize=(12, 6))\n",
        "    plt.bar(pos_tags, frequencies)\n",
        "    plt.xlabel('POS Tags')\n",
        "    plt.ylabel('Frequency')\n",
        "    plt.title('POS Tag Frequency Distribution')\n",
        "    plt.show()"
      ]
    },
    {
      "cell_type": "code",
      "execution_count": 20,
      "metadata": {
        "colab": {
          "base_uri": "https://localhost:8080/"
        },
        "id": "Wd03UMFOThJy",
        "outputId": "175095eb-a0fd-446e-8e76-c2028cc13de6"
      },
      "outputs": [
        {
          "name": "stdout",
          "output_type": "stream",
          "text": [
            "Number of terms not found in train set: 286\n"
          ]
        }
      ],
      "source": [
        "list_1 = build_vocab(train_sentences)\n",
        "list_2 = build_vocab(val_sentences)\n",
        "diff_list = [item for item in list_2 if item not in list_1]\n",
        "print('Number of terms not found in train set:',len(diff_list))"
      ]
    },
    {
      "cell_type": "markdown",
      "metadata": {
        "id": "mptfqqY_Tvt1"
      },
      "source": [
        "### Load pre-trained word embeddings\n",
        "We use fasttext wiki-news vectors to build a dictionary with word as key and its vector as value"
      ]
    },
    {
      "cell_type": "code",
      "execution_count": 21,
      "metadata": {
        "colab": {
          "base_uri": "https://localhost:8080/"
        },
        "id": "2kg3Z_f9Tww4",
        "outputId": "a2071345-1371-4fd0-cc45-44a2e610ee27"
      },
      "outputs": [
        {
          "name": "stdout",
          "output_type": "stream",
          "text": [
            "(999994, 300)\n"
          ]
        }
      ],
      "source": [
        "embs_path = 'wiki-news-300d-1M.vec'\n",
        "embeddings = KeyedVectors.load_word2vec_format(embs_path, binary=False)\n",
        "print(embeddings.vectors.shape)"
      ]
    },
    {
      "cell_type": "code",
      "execution_count": 23,
      "metadata": {
        "id": "yvp3HomCT4n1"
      },
      "outputs": [],
      "source": [
        "# w2c = dict()\n",
        "# for item in embeddings.vocab:\n",
        "#     w2c[item]=embeddings.vocab[item].count\n",
        "\n",
        "w2c = dict()\n",
        "for item in embeddings.key_to_index:\n",
        "    w2c[item] = embeddings.key_to_index[item]"
      ]
    },
    {
      "cell_type": "code",
      "execution_count": 24,
      "metadata": {
        "id": "lR8Z6P2ahJfq"
      },
      "outputs": [],
      "source": [
        "w2c = dict()\n",
        "for item in embeddings.key_to_index:\n",
        "    count = embeddings.get_vecattr(item, \"count\")\n",
        "    w2c[item] = count"
      ]
    },
    {
      "cell_type": "markdown",
      "metadata": {
        "id": "Z8cpNi0AUMmU"
      },
      "source": [
        "##### 10 most frequent terms"
      ]
    },
    {
      "cell_type": "code",
      "execution_count": 25,
      "metadata": {
        "colab": {
          "base_uri": "https://localhost:8080/"
        },
        "id": "kW1f6DmIUJoA",
        "outputId": "439e9ba7-bc24-4ff1-da81-84799c093d13"
      },
      "outputs": [
        {
          "data": {
            "text/plain": [
              "{',': 999994,\n",
              " 'the': 999993,\n",
              " '.': 999992,\n",
              " 'and': 999991,\n",
              " 'of': 999990,\n",
              " 'to': 999989,\n",
              " 'in': 999988,\n",
              " 'a': 999987,\n",
              " '\"': 999986,\n",
              " ':': 999985}"
            ]
          },
          "execution_count": 25,
          "metadata": {},
          "output_type": "execute_result"
        }
      ],
      "source": [
        "dict(sorted(w2c.items(), key=lambda x: x[1],reverse=True)[:10])"
      ]
    },
    {
      "cell_type": "markdown",
      "metadata": {
        "id": "S2brTeDUf2J7"
      },
      "source": [
        "## Extracting the Features"
      ]
    },
    {
      "cell_type": "code",
      "execution_count": 26,
      "metadata": {
        "id": "5H3_bnoGf4nf"
      },
      "outputs": [],
      "source": [
        "dim = embeddings.vectors.shape[1]\n",
        "pad = np.zeros(dim) # Pad vector\n",
        "np.random.seed(3) # For reproducibility\n",
        "oov =  np.random.uniform(-0.25, 0.25, dim) # Out-of-vocabulary vector\n",
        "\n",
        "def features_embs(sentence, index, window=1, method='concat'):\n",
        "    \"\"\" sentence: [w1, w2, ...],\n",
        "        index: the index of the word,\n",
        "        window: number of places left and right of the classified word,\n",
        "        method: sum or concatenate the vectors of words in the window \"\"\"\n",
        "    unknown = 0\n",
        "    if method == 'sum':\n",
        "        vec = np.array(dim)\n",
        "        for i in range(index-window,index+window+1):\n",
        "            if i<0:\n",
        "                vec = np.sum([vec, pad], axis=0)\n",
        "                continue\n",
        "            if i>len(sentence)-1:\n",
        "                vec = np.sum([vec, pad], axis=0)\n",
        "                continue\n",
        "            try:\n",
        "                vec = np.sum([vec, embeddings[sentence[i]]], axis=0)\n",
        "            except:\n",
        "                vec = np.sum([vec, oov], axis=0)\n",
        "                unknown +=1\n",
        "\n",
        "    if method == 'concat':\n",
        "        vec = np.array([])\n",
        "        for i in range(index-window,index+window+1):\n",
        "            if i<0:\n",
        "                vec = np.append(vec, pad) #for word indices out of sentence bounds (begin), append pad vector\n",
        "                continue\n",
        "            if i>len(sentence)-1:\n",
        "                vec = np.append(vec, pad) #for word indices out of sentence bounds (end), append pad vector\n",
        "                continue\n",
        "            try:\n",
        "                vec = np.append(vec, embeddings[sentence[i]])\n",
        "            except:\n",
        "                vec = np.append(vec, oov) #if word is not in embedding model append the oov vector\n",
        "                unknown +=1\n",
        "\n",
        "    return vec, unknown"
      ]
    },
    {
      "cell_type": "code",
      "execution_count": 27,
      "metadata": {
        "id": "0kODuclshRQx"
      },
      "outputs": [],
      "source": [
        "def features_basic(sentence, index):\n",
        "    \"\"\" sentence: [w1, w2, ...], index: the index of the word \"\"\"\n",
        "    return {\n",
        "        'nb_terms': len(sentence),\n",
        "        'word': sentence[index],\n",
        "        'is_first': index == 0,\n",
        "        'is_last': index == len(sentence) - 1,\n",
        "        'is_capitalized': sentence[index][0].upper() == sentence[index][0],\n",
        "        'is_all_caps': sentence[index].upper() == sentence[index],\n",
        "        'is_all_lower': sentence[index].lower() == sentence[index],\n",
        "        'prefix-1': sentence[index][0],\n",
        "        'prefix-2': sentence[index][:2],\n",
        "        'prefix-3': sentence[index][:3],\n",
        "        'suffix-1': sentence[index][-1],\n",
        "        'suffix-2': sentence[index][-2:],\n",
        "        'suffix-3': sentence[index][-3:],\n",
        "        'i-1_prefix-3': '' if index == 0 else sentence[index-1][:3],\n",
        "        'i-1_suffix-3': '' if index == 0 else sentence[index-1][-3:],\n",
        "        'i+1_prefix-3': '' if index == len(sentence) - 1 else sentence[index+1][:3],\n",
        "        'i+1_suffix-3': '' if index == len(sentence) - 1 else sentence[index+1][-3:],\n",
        "        'prev_word': '' if index == 0 else sentence[index - 1],\n",
        "        'next_word': '' if index == len(sentence) - 1 else sentence[index + 1],\n",
        "        'has_hyphen': '-' in sentence[index],\n",
        "        'is_numeric': sentence[index].isdigit(),\n",
        "        'capitals_inside': sentence[index][1:].lower() != sentence[index][1:],\n",
        "    }"
      ]
    },
    {
      "cell_type": "code",
      "execution_count": 28,
      "metadata": {
        "id": "yvqHmurRh-yZ"
      },
      "outputs": [],
      "source": [
        "def transform_to_dataset(tagged_sentences, window):\n",
        "    i=0\n",
        "    X, y = [], []\n",
        "    for doc_index, tagged in enumerate(tagged_sentences):\n",
        "        for index in range(len(tagged)):\n",
        "            X.append([features_basic(untag(tagged), index),\\\n",
        "                      features_embs(untag(tagged), index, window)[0],\\\n",
        "                     ])\n",
        "            y.append(tagged[index][1])\n",
        "            #features_embs(untag(tagged), index, window)[1]\n",
        "            k = features_embs(untag(tagged), index, window)[1]\n",
        "            i += k\n",
        "    return X, y, i"
      ]
    },
    {
      "cell_type": "code",
      "execution_count": 29,
      "metadata": {
        "id": "7-CQoz1TiALp"
      },
      "outputs": [],
      "source": [
        "def transform_test_sentence(sentence, window):\n",
        "    X = []\n",
        "    for index in range(len(sentence)):\n",
        "            X.append([\n",
        "                      features_basic(sentence, index),\\\n",
        "                      features_embs(sentence, index, window),\\\n",
        "                     ])\n",
        "    return X"
      ]
    },
    {
      "cell_type": "markdown",
      "metadata": {
        "id": "M09qkxKTiNpA"
      },
      "source": [
        "tests"
      ]
    },
    {
      "cell_type": "code",
      "execution_count": 30,
      "metadata": {
        "colab": {
          "base_uri": "https://localhost:8080/"
        },
        "id": "MZPGPtzKiDfi",
        "outputId": "f95c6af1-ee6f-43da-b768-036cf0263a96"
      },
      "outputs": [
        {
          "data": {
            "text/plain": [
              "['any',\n",
              " 'use',\n",
              " 'of',\n",
              " 'the',\n",
              " 'work',\n",
              " 'other',\n",
              " 'than',\n",
              " 'as',\n",
              " 'authorized',\n",
              " 'under',\n",
              " 'this',\n",
              " 'license',\n",
              " 'or',\n",
              " 'copyright',\n",
              " 'law',\n",
              " 'is',\n",
              " 'prohibited',\n",
              " '.']"
            ]
          },
          "execution_count": 30,
          "metadata": {},
          "output_type": "execute_result"
        }
      ],
      "source": [
        "untag(test_sentences[1])"
      ]
    },
    {
      "cell_type": "code",
      "execution_count": 31,
      "metadata": {
        "id": "mk3L9ADrpAwi"
      },
      "outputs": [],
      "source": [
        "test_sentence = ['The', 'only', 'way', 'is', 'forward', '!']"
      ]
    },
    {
      "cell_type": "code",
      "execution_count": 34,
      "metadata": {
        "colab": {
          "base_uri": "https://localhost:8080/"
        },
        "id": "IcA_oxgDpleH",
        "outputId": "63a43728-7e04-4d51-f0d3-c423705bb675"
      },
      "outputs": [
        {
          "name": "stdout",
          "output_type": "stream",
          "text": [
            "Shape of vector at index 0 of test_sentence (window size 1): 900\n",
            "Shape of vector at index 3 of test_sentence (window size 2): 1500\n"
          ]
        }
      ],
      "source": [
        "index_0_vector_size_window_1 = len(features_embs(test_sentence, 0, window=1, method='concat')[0])\n",
        "index_3_vector_size_window_2 = len(features_embs(test_sentence, 0, window=2, method='concat')[0])\n",
        "\n",
        "print(f'Shape of vector at index 0 of test_sentence (window size 1): {index_0_vector_size_window_1}')\n",
        "print(f'Shape of vector at index 3 of test_sentence (window size 2): {index_3_vector_size_window_2}')\n"
      ]
    },
    {
      "cell_type": "code",
      "execution_count": 35,
      "metadata": {
        "colab": {
          "base_uri": "https://localhost:8080/"
        },
        "id": "CJo-7xodpovZ",
        "outputId": "3c6e142b-a58d-4cf8-9307-26919774f8ef"
      },
      "outputs": [
        {
          "name": "stdout",
          "output_type": "stream",
          "text": [
            "[ 0.00000000e+00  0.00000000e+00  0.00000000e+00  0.00000000e+00\n",
            "  0.00000000e+00  0.00000000e+00  0.00000000e+00  0.00000000e+00\n",
            "  0.00000000e+00  0.00000000e+00  0.00000000e+00  0.00000000e+00\n",
            "  0.00000000e+00  0.00000000e+00  0.00000000e+00  0.00000000e+00\n",
            "  0.00000000e+00  0.00000000e+00  0.00000000e+00  0.00000000e+00\n",
            "  0.00000000e+00  0.00000000e+00  0.00000000e+00  0.00000000e+00\n",
            "  0.00000000e+00  0.00000000e+00  0.00000000e+00  0.00000000e+00\n",
            "  0.00000000e+00  0.00000000e+00  0.00000000e+00  0.00000000e+00\n",
            "  0.00000000e+00  0.00000000e+00  0.00000000e+00  0.00000000e+00\n",
            "  0.00000000e+00  0.00000000e+00  0.00000000e+00  0.00000000e+00\n",
            "  0.00000000e+00  0.00000000e+00  0.00000000e+00  0.00000000e+00\n",
            "  0.00000000e+00  0.00000000e+00  0.00000000e+00  0.00000000e+00\n",
            "  0.00000000e+00  0.00000000e+00  0.00000000e+00  0.00000000e+00\n",
            "  0.00000000e+00  0.00000000e+00  0.00000000e+00  0.00000000e+00\n",
            "  0.00000000e+00  0.00000000e+00  0.00000000e+00  0.00000000e+00\n",
            "  0.00000000e+00  0.00000000e+00  0.00000000e+00  0.00000000e+00\n",
            "  0.00000000e+00  0.00000000e+00  0.00000000e+00  0.00000000e+00\n",
            "  0.00000000e+00  0.00000000e+00  0.00000000e+00  0.00000000e+00\n",
            "  0.00000000e+00  0.00000000e+00  0.00000000e+00  0.00000000e+00\n",
            "  0.00000000e+00  0.00000000e+00  0.00000000e+00  0.00000000e+00\n",
            "  0.00000000e+00  0.00000000e+00  0.00000000e+00  0.00000000e+00\n",
            "  0.00000000e+00  0.00000000e+00  0.00000000e+00  0.00000000e+00\n",
            "  0.00000000e+00  0.00000000e+00  0.00000000e+00  0.00000000e+00\n",
            "  0.00000000e+00  0.00000000e+00  0.00000000e+00  0.00000000e+00\n",
            "  0.00000000e+00  0.00000000e+00  0.00000000e+00  0.00000000e+00\n",
            "  0.00000000e+00  0.00000000e+00  0.00000000e+00  0.00000000e+00\n",
            "  0.00000000e+00  0.00000000e+00  0.00000000e+00  0.00000000e+00\n",
            "  0.00000000e+00  0.00000000e+00  0.00000000e+00  0.00000000e+00\n",
            "  0.00000000e+00  0.00000000e+00  0.00000000e+00  0.00000000e+00\n",
            "  0.00000000e+00  0.00000000e+00  0.00000000e+00  0.00000000e+00\n",
            "  0.00000000e+00  0.00000000e+00  0.00000000e+00  0.00000000e+00\n",
            "  0.00000000e+00  0.00000000e+00  0.00000000e+00  0.00000000e+00\n",
            "  0.00000000e+00  0.00000000e+00  0.00000000e+00  0.00000000e+00\n",
            "  0.00000000e+00  0.00000000e+00  0.00000000e+00  0.00000000e+00\n",
            "  0.00000000e+00  0.00000000e+00  0.00000000e+00  0.00000000e+00\n",
            "  0.00000000e+00  0.00000000e+00  0.00000000e+00  0.00000000e+00\n",
            "  0.00000000e+00  0.00000000e+00  0.00000000e+00  0.00000000e+00\n",
            "  0.00000000e+00  0.00000000e+00  0.00000000e+00  0.00000000e+00\n",
            "  0.00000000e+00  0.00000000e+00  0.00000000e+00  0.00000000e+00\n",
            "  0.00000000e+00  0.00000000e+00  0.00000000e+00  0.00000000e+00\n",
            "  0.00000000e+00  0.00000000e+00  0.00000000e+00  0.00000000e+00\n",
            "  0.00000000e+00  0.00000000e+00  0.00000000e+00  0.00000000e+00\n",
            "  0.00000000e+00  0.00000000e+00  0.00000000e+00  0.00000000e+00\n",
            "  0.00000000e+00  0.00000000e+00  0.00000000e+00  0.00000000e+00\n",
            "  0.00000000e+00  0.00000000e+00  0.00000000e+00  0.00000000e+00\n",
            "  0.00000000e+00  0.00000000e+00  0.00000000e+00  0.00000000e+00\n",
            "  0.00000000e+00  0.00000000e+00  0.00000000e+00  0.00000000e+00\n",
            "  0.00000000e+00  0.00000000e+00  0.00000000e+00  0.00000000e+00\n",
            "  0.00000000e+00  0.00000000e+00  0.00000000e+00  0.00000000e+00\n",
            "  0.00000000e+00  0.00000000e+00  0.00000000e+00  0.00000000e+00\n",
            "  0.00000000e+00  0.00000000e+00  0.00000000e+00  0.00000000e+00\n",
            "  0.00000000e+00  0.00000000e+00  0.00000000e+00  0.00000000e+00\n",
            "  0.00000000e+00  0.00000000e+00  0.00000000e+00  0.00000000e+00\n",
            "  0.00000000e+00  0.00000000e+00  0.00000000e+00  0.00000000e+00\n",
            "  0.00000000e+00  0.00000000e+00  0.00000000e+00  0.00000000e+00\n",
            "  0.00000000e+00  0.00000000e+00  0.00000000e+00  0.00000000e+00\n",
            "  0.00000000e+00  0.00000000e+00  0.00000000e+00  0.00000000e+00\n",
            "  0.00000000e+00  0.00000000e+00  0.00000000e+00  0.00000000e+00\n",
            "  0.00000000e+00  0.00000000e+00  0.00000000e+00  0.00000000e+00\n",
            "  0.00000000e+00  0.00000000e+00  0.00000000e+00  0.00000000e+00\n",
            "  0.00000000e+00  0.00000000e+00  0.00000000e+00  0.00000000e+00\n",
            "  0.00000000e+00  0.00000000e+00  0.00000000e+00  0.00000000e+00\n",
            "  0.00000000e+00  0.00000000e+00  0.00000000e+00  0.00000000e+00\n",
            "  0.00000000e+00  0.00000000e+00  0.00000000e+00  0.00000000e+00\n",
            "  0.00000000e+00  0.00000000e+00  0.00000000e+00  0.00000000e+00\n",
            "  0.00000000e+00  0.00000000e+00  0.00000000e+00  0.00000000e+00\n",
            "  0.00000000e+00  0.00000000e+00  0.00000000e+00  0.00000000e+00\n",
            "  0.00000000e+00  0.00000000e+00  0.00000000e+00  0.00000000e+00\n",
            "  0.00000000e+00  0.00000000e+00  0.00000000e+00  0.00000000e+00\n",
            "  0.00000000e+00  0.00000000e+00  0.00000000e+00  0.00000000e+00\n",
            "  0.00000000e+00  0.00000000e+00  0.00000000e+00  0.00000000e+00\n",
            "  0.00000000e+00  0.00000000e+00  0.00000000e+00  0.00000000e+00\n",
            "  0.00000000e+00  0.00000000e+00  0.00000000e+00  0.00000000e+00\n",
            "  0.00000000e+00  0.00000000e+00  0.00000000e+00  0.00000000e+00\n",
            "  0.00000000e+00  0.00000000e+00  0.00000000e+00  0.00000000e+00\n",
            "  7.97000006e-02 -2.94000003e-02  3.29999998e-03  4.58000004e-02\n",
            "  1.74000002e-02 -3.26999985e-02  2.52999999e-02 -1.89999994e-02\n",
            " -9.99999978e-03  2.31999997e-02  2.49000005e-02  4.49999981e-03\n",
            " -5.77999987e-02  4.25000004e-02  7.64999986e-02 -5.70000010e-03\n",
            "  3.73000018e-02 -1.75000001e-02  8.03999975e-02  4.65000011e-02\n",
            "  5.70000010e-03  4.87000011e-02  9.80000012e-03 -6.06999993e-02\n",
            " -9.39999968e-02 -1.76400006e-01  1.10600002e-01 -3.51000018e-02\n",
            "  3.72000001e-02  1.07100002e-01 -2.10999995e-02  2.40000002e-02\n",
            "  4.38000001e-02  3.18999998e-02 -1.75999999e-02  3.86999995e-02\n",
            "  1.70000002e-03 -4.54000011e-02 -2.36000009e-02 -4.06000018e-02\n",
            " -3.17000002e-02  1.11999996e-02  3.24000008e-02 -5.09999990e-02\n",
            "  1.30000000e-03  6.17999993e-02  7.24000037e-02 -5.09000011e-02\n",
            " -5.79000004e-02 -9.69000012e-02  9.99999975e-05 -3.05000003e-02\n",
            " -7.45199978e-01  6.93000033e-02  1.39999995e-03 -3.04000005e-02\n",
            "  8.60000029e-03 -3.68000008e-02 -2.34599993e-01 -3.26000005e-02\n",
            " -5.99999987e-02 -2.76999995e-02  1.87999997e-02  9.99999975e-05\n",
            "  9.65000018e-02  9.35999975e-02  4.45000008e-02  2.04000007e-02\n",
            "  4.87999991e-02  1.64000001e-02 -3.62000018e-02  1.82000007e-02\n",
            " -8.00000038e-03 -4.50999998e-02 -1.63000003e-02  4.19999985e-03\n",
            "  3.13000008e-02 -4.21000011e-02 -4.89000008e-02 -1.40000001e-01\n",
            " -1.46000003e-02  7.49000013e-02  4.69999984e-02 -5.80600023e-01\n",
            " -3.77999991e-02 -2.42999997e-02  6.62000030e-02 -3.00999992e-02\n",
            "  2.58100003e-01 -9.39999986e-03 -6.09999988e-03  3.10000009e-03\n",
            "  7.63000026e-02  2.02199996e-01  4.71000001e-02 -9.30000003e-03\n",
            "  8.00000038e-03  7.71000013e-02  5.95999993e-02  3.20999995e-02\n",
            "  9.35000032e-02  2.54999995e-02  3.42999995e-02  4.83000018e-02\n",
            " -3.23799998e-01  3.73999998e-02  1.54799998e-01 -7.77999982e-02\n",
            " -7.49999983e-03 -1.03699997e-01 -5.93999997e-02  8.39999970e-03\n",
            "  3.02000009e-02 -1.05999997e-02 -2.09999997e-02 -3.80000006e-03\n",
            " -8.00000038e-03  1.30000003e-02  4.25999984e-02 -2.52200007e-01\n",
            " -1.67999994e-02 -3.24999988e-02  6.70000017e-02 -3.04399997e-01\n",
            " -4.58999984e-02  1.31999999e-02 -2.76999995e-02 -9.53999981e-02\n",
            "  1.63000003e-02 -1.26000000e-02  0.00000000e+00  3.88999991e-02\n",
            "  1.10500000e-01 -1.26999998e-02 -9.61999968e-02 -3.07200015e-01\n",
            " -6.80000009e-03  6.62000030e-02 -1.29000004e-02  8.20000004e-03\n",
            " -3.29000019e-02  5.70000010e-03  6.47000000e-02  4.80699986e-01\n",
            " -6.67999983e-02  7.33999982e-02 -9.48000029e-02 -8.00000038e-03\n",
            "  3.33999991e-02 -2.16000006e-02  9.40999985e-02 -1.90000003e-03\n",
            " -1.37999998e-02  3.59999985e-02  1.66999996e-02  4.69999984e-02\n",
            "  1.30700007e-01  6.63999990e-02 -1.27999997e-02  1.83000006e-02\n",
            "  1.48000000e-02  2.23999992e-02 -3.83000001e-02  2.82000005e-02\n",
            " -4.47699994e-01 -3.18999998e-02  1.55800000e-01 -1.40300006e-01\n",
            " -5.11999987e-02 -5.48000000e-02 -2.87900001e-01 -6.80000009e-03\n",
            "  3.99999991e-02  1.09999999e-02 -8.48999992e-02 -1.68699995e-01\n",
            "  1.64100006e-01 -2.05799997e-01 -1.25000002e-02 -4.49999981e-03\n",
            "  4.06999998e-02 -1.14000002e-02  5.95999993e-02  7.60000013e-03\n",
            "  4.19999985e-03 -7.11999983e-02  6.14000000e-02  1.14100002e-01\n",
            "  2.89400011e-01  3.44000012e-02  2.89999992e-02 -4.60000010e-03\n",
            " -3.77000012e-02  6.69000000e-02  5.29999984e-03  1.99999996e-02\n",
            " -1.78999994e-02 -8.32000002e-02 -4.69500005e-01 -6.61000013e-02\n",
            "  2.99999993e-02  1.01300001e-01 -2.30000005e-03  4.30000015e-03\n",
            "  1.04000002e-01 -1.75000001e-02 -6.27999976e-02 -1.13200001e-01\n",
            "  9.61000025e-02  3.19999992e-03  1.86999999e-02 -5.26000001e-02\n",
            " -2.08000001e-02 -2.30999999e-02 -7.99999980e-04  2.48000007e-02\n",
            " -9.01999995e-02 -7.68999979e-02  3.40000018e-02 -1.00599997e-01\n",
            " -8.00000038e-03  2.36000009e-02  1.36000002e-02  3.00999992e-02\n",
            "  1.83000006e-02  1.87900007e-01  2.58000009e-02  3.04000005e-02\n",
            " -6.58999979e-02 -2.01600000e-01  3.95999998e-02 -2.09999993e-03\n",
            "  1.63800001e-01  1.32100001e-01  7.79999979e-03  2.16600001e-01\n",
            "  3.89999989e-03  5.10000018e-03 -2.07300007e-01 -2.50000004e-02\n",
            " -2.04000007e-02  9.70000029e-03 -4.10999991e-02  3.11999992e-02\n",
            "  5.27000017e-02 -1.10999998e-02  4.80999984e-02 -3.15999985e-02\n",
            " -2.95000002e-02  2.88500011e-01 -5.09999990e-02 -6.63999990e-02\n",
            " -6.49999976e-02 -1.21999998e-02  1.38500005e-01  2.37000007e-02\n",
            "  8.63000005e-02 -4.89000008e-02  8.10000021e-03  6.69000000e-02\n",
            "  1.20499998e-01 -8.99999961e-03 -8.10000021e-03  1.95000004e-02\n",
            " -1.92200005e-01  1.44999996e-02  1.81000009e-02  3.46000008e-02\n",
            " -1.34800002e-01 -6.89999992e-03 -2.92000007e-02 -1.82000007e-02\n",
            "  1.95000004e-02  1.10399999e-01  1.90000003e-03 -9.10000037e-03\n",
            "  3.35999988e-02  7.95999989e-02 -4.85999994e-02  1.84000004e-02\n",
            "  2.20999997e-02 -6.04999997e-02 -2.97999997e-02  1.99999996e-02\n",
            " -1.49999997e-02  1.70000002e-03  1.10999998e-02  1.02100000e-01\n",
            "  3.66999991e-02  5.16999997e-02  1.87999997e-02  1.92000009e-02\n",
            " -3.37000005e-02  1.59999996e-03 -5.09999990e-02  3.84999998e-02\n",
            "  3.95000018e-02  1.37199998e-01  6.69000000e-02 -8.39999970e-03\n",
            "  1.17200002e-01  8.29999987e-03 -1.36800006e-01 -1.70000002e-03\n",
            " -3.83000001e-02 -2.19999999e-02 -2.40000011e-03  9.89999995e-03\n",
            " -1.00999996e-02  3.70000000e-03  7.69999996e-03 -9.99999978e-03\n",
            "  5.75000010e-02  5.18999994e-02 -6.54999986e-02  2.76999995e-02\n",
            " -2.07000002e-02 -3.70000005e-02 -8.17999989e-02 -5.57999983e-02\n",
            "  2.16000006e-02 -1.18000004e-02 -1.67999994e-02  6.04000017e-02\n",
            "  3.37000005e-02 -5.75999990e-02  1.05700001e-01  1.24799997e-01\n",
            "  3.77000012e-02  9.29000005e-02  1.44999996e-02  1.09999999e-03\n",
            " -5.86000010e-02  1.70000002e-03  2.89999996e-03  8.99999961e-03\n",
            " -1.53999999e-02  4.89000008e-02  2.19999999e-02 -6.37999997e-02\n",
            " -5.27000017e-02  1.86999999e-02  5.13000004e-02 -1.23700000e-01\n",
            " -1.05999997e-02  9.22000036e-02  4.23999988e-02 -1.87999997e-02\n",
            "  2.94000003e-02  8.24000016e-02 -2.44999994e-02  1.30400002e-01\n",
            " -6.05400026e-01  5.40000014e-02  2.43999995e-02 -6.80000009e-03\n",
            "  4.47000004e-02 -5.20000001e-03 -8.60000029e-03  4.14000005e-02\n",
            "  9.00999978e-02  9.40999985e-02 -8.11000019e-02 -3.70000005e-02\n",
            "  4.30000015e-03 -1.04699999e-01 -2.31999997e-02  4.14000005e-02\n",
            "  5.90000022e-03  2.17000004e-02  5.31000011e-02 -7.24999979e-02\n",
            "  3.70000000e-03  1.11800000e-01  2.91000009e-02  1.67999994e-02\n",
            " -2.00999994e-02  1.86999999e-02 -4.01000008e-02  5.16999997e-02\n",
            "  3.75000015e-02 -6.28999993e-02  5.35999984e-02 -2.17299998e-01\n",
            "  1.24000004e-02  1.59999996e-03 -5.73999994e-02 -1.24000004e-02\n",
            " -2.04200000e-01  2.88999993e-02 -3.00000003e-03 -5.86000010e-02\n",
            " -5.29999984e-03 -3.66999991e-02  4.10000002e-03 -8.60000029e-03\n",
            "  1.64000001e-02  3.00999992e-02 -1.10999998e-02 -3.31000015e-02\n",
            " -1.13499999e-01  4.01999988e-02  7.16999993e-02  5.31999990e-02\n",
            " -6.66999966e-02 -6.00000005e-03  1.93900004e-01 -6.32999986e-02\n",
            "  4.49999981e-03  4.78999987e-02  2.26000007e-02 -2.30000000e-02\n",
            "  8.39999970e-03  4.60000010e-03 -1.47000002e-02 -1.29899994e-01\n",
            " -2.00999994e-02 -4.39999998e-02 -3.11999992e-02 -2.63700008e-01\n",
            " -3.72000001e-02 -8.64999965e-02  1.30000003e-02  1.30199999e-01\n",
            "  8.44999999e-02  1.27700001e-01 -8.89999978e-03 -2.19999999e-03\n",
            " -4.80999984e-02  4.67000008e-02  2.07000002e-02 -1.37999998e-02\n",
            " -3.00000014e-04 -5.40000014e-02  1.46799996e-01 -2.95100003e-01\n",
            " -4.49999981e-03  6.00000005e-03  1.96000002e-02 -4.91000004e-02\n",
            " -7.89999962e-03  3.24999988e-02 -7.30000017e-03  3.18300009e-01\n",
            "  4.49999981e-03 -3.22000012e-02  9.44000036e-02 -2.94000003e-02\n",
            " -7.89999962e-03 -2.84000002e-02  2.19099998e-01 -6.56000003e-02\n",
            " -2.60000001e-03 -7.40000000e-03  8.99999985e-04  5.81000000e-02\n",
            " -8.81000012e-02  9.99999978e-03  1.09999999e-03 -2.78999992e-02\n",
            "  2.39000004e-02 -7.49999983e-03  2.08000001e-02 -3.81000005e-02\n",
            " -2.56999999e-01  1.26499996e-01  5.77000007e-02  7.72000030e-02\n",
            "  2.54999995e-02 -4.50999998e-02  3.00999992e-02  3.53000015e-02\n",
            "  3.11999992e-02  6.03000000e-02  1.76499993e-01 -1.10600002e-01\n",
            "  1.96600005e-01 -2.11199999e-01  5.68999983e-02 -5.73999994e-02\n",
            "  5.44999987e-02 -1.64999999e-02 -3.28000002e-02  2.07000002e-02\n",
            " -1.26999998e-02  3.59000005e-02 -3.70000000e-03 -2.15700001e-01\n",
            "  1.50500000e-01  3.08999997e-02 -7.40000010e-02  3.53000015e-02\n",
            "  3.44000012e-02 -3.39000002e-02 -2.17000004e-02 -2.80000009e-02\n",
            "  4.67999987e-02 -3.73999998e-02  1.86399996e-01  5.46000004e-02\n",
            " -6.36000037e-02  1.03000002e-02  2.01999992e-02 -1.62000004e-02\n",
            " -2.30999999e-02  2.72000004e-02  9.39999986e-03 -1.36899993e-01\n",
            "  7.59000033e-02  8.47000033e-02 -7.79999979e-03  4.19999985e-03\n",
            "  6.80000009e-03  5.09000011e-02  2.64999997e-02  3.99000011e-02\n",
            " -9.35000032e-02 -6.74000010e-02  6.52000010e-02  1.73000004e-02\n",
            "  2.56999992e-02  7.49000013e-02 -3.17000002e-02  1.59999996e-03\n",
            "  7.95999989e-02 -7.19999988e-03  5.13000004e-02  1.00599997e-01\n",
            " -3.33000012e-02 -1.75600007e-01  3.40000005e-03 -7.18000010e-02\n",
            "  2.39500001e-01  1.16800003e-01  1.08999997e-01 -6.31000027e-02\n",
            "  1.37999998e-02 -3.99999990e-04 -1.43900007e-01 -1.89999994e-02\n",
            " -1.62000004e-02 -1.11999996e-02  1.07400000e-01 -1.61000006e-02\n",
            " -6.36999980e-02 -5.05000018e-02  5.22000007e-02 -2.65999995e-02\n",
            "  5.53999990e-02  2.83399999e-01 -1.14399999e-01 -1.43999998e-02\n",
            " -1.07900001e-01 -2.55999994e-02  1.22800000e-01  6.87000006e-02\n",
            " -1.95000004e-02 -0.00000000e+00  2.18000002e-02  3.40000005e-03\n",
            "  4.06000018e-02  3.22000012e-02  7.99999980e-04 -8.89999978e-03\n",
            " -1.25599995e-01  9.51000005e-02 -5.35000004e-02  4.19999994e-02\n",
            " -4.67999987e-02  1.90999992e-02 -1.11999996e-02 -2.69000009e-02\n",
            " -2.14000009e-02 -2.33999994e-02 -2.58000009e-02  5.11999987e-02\n",
            "  4.23000008e-02 -5.13999984e-02  1.21999998e-02 -2.01999992e-02\n",
            "  1.58299997e-01  8.11000019e-02  1.28099993e-01  6.39999984e-03\n",
            "  3.73999998e-02  3.13999988e-02 -5.64999990e-02  9.25000012e-02\n",
            " -3.79999988e-02  2.61000004e-02  3.20999995e-02 -1.00000005e-03\n",
            "  1.38999997e-02  5.77999987e-02  2.61000004e-02 -9.58999991e-02\n",
            "  3.22000012e-02  1.50800005e-01  4.30999994e-02 -3.42000015e-02]\n"
          ]
        }
      ],
      "source": [
        "print(features_embs(test_sentence, 0, 1)[0])"
      ]
    },
    {
      "cell_type": "code",
      "execution_count": 36,
      "metadata": {
        "id": "YeJ9Sx33vv28"
      },
      "outputs": [],
      "source": [
        "def vectorize(train, val, test, window=1, method='embs'):\n",
        "    \"\"\"\n",
        "    method can be one of three options:\n",
        "        'embs': window embeddings\n",
        "        'classical': dictionary of features depending on the sentence where the term has been extracted from\n",
        "        'boosted': combination of embs and classical\n",
        "    \"\"\"\n",
        "\n",
        "    if method=='embs':\n",
        "        print('Embeddings window method')\n",
        "        print('Vectorizing Dataset...')\n",
        "        print('Vectorizing train...')\n",
        "        X_train, y_train, unk_tr = transform_to_dataset(train, window=window)\n",
        "        X_train = [x[1] for x in X_train]\n",
        "        X_train = np.asarray(X_train)\n",
        "\n",
        "        print('Vectorizing validation...')\n",
        "        X_val, y_val, unk_val = transform_to_dataset(val, window=window)\n",
        "        X_val = [x[1] for x in X_val]\n",
        "        X_val = np.asarray(X_val)\n",
        "\n",
        "        print('Vectorizing test...')\n",
        "        X_test, y_test, unk_te = transform_to_dataset(test, window=window)\n",
        "        X_test = [x[1] for x in X_test]\n",
        "        X_test = np.asarray(X_test)\n",
        "\n",
        "        print('Dataset vectorized.')\n",
        "        print('Train shape:', X_train.shape)\n",
        "        print('Validation shape:', X_val.shape)\n",
        "        print('Test shape:', X_test.shape)\n",
        "        print('Found %s unknown words in train set %s unknown words in validation set and %s unknown words in test set' % (unk_tr, unk_val, unk_te))\n",
        "        return X_train, y_train, X_val, y_val, X_test, y_test\n",
        "\n",
        "    if method=='classical':\n",
        "        print('Classical method')\n",
        "        print('Vectorizing Dataset...')\n",
        "        print('Vectorizing train...')\n",
        "        X_train, y_train, _ = transform_to_dataset(train, window=window)\n",
        "        v = DictVectorizer(sparse=True)\n",
        "        X_train = v.fit_transform([x[0] for x in X_train])\n",
        "\n",
        "        print('Vectorizing validation...')\n",
        "        X_val, y_val, _ = transform_to_dataset(val, window=window)\n",
        "        X_val = v.transform([x[0] for x in X_val])\n",
        "\n",
        "        print('Vectorizing test...')\n",
        "        X_test, y_test, _ = transform_to_dataset(test, window=window)\n",
        "        X_test = v.transform([x[0] for x in X_test])\n",
        "\n",
        "        print('Dataset vectorized.')\n",
        "        print('Train shape:', X_train.shape)\n",
        "        print('Validation shape:', X_val.shape)\n",
        "        print('Test shape:', X_test.shape)\n",
        "        X_train = X_train # Because we have sparce matrix\n",
        "        X_val = X_val # Because we have sparce matrix\n",
        "        X_test = X_test # Because we have sparce matrix\n",
        "        return X_train, y_train, X_val, y_val, X_test, y_test, v\n",
        "\n",
        "    if method=='boosted':\n",
        "        print('Combined Classical - Embeddings window method')\n",
        "        print('Vectorizing Dataset...')\n",
        "        print('Vectorizing train...')\n",
        "        X_train, y_train, unk_tr = transform_to_dataset(train, window=window)\n",
        "        v = DictVectorizer(sparse=True) # We choose sparse=True for faster concatenation later\n",
        "        X_classical = v.fit_transform([x[0] for x in X_train])\n",
        "        X_embs = [x[1] for x in X_train]\n",
        "        X_embs = np.asarray(X_embs)\n",
        "        X_train = hstack((X_classical, X_embs))\n",
        "        del X_classical, X_embs\n",
        "\n",
        "        print('Vectorizing validation...')\n",
        "        X_val, y_val, unk_val = transform_to_dataset(val, window=window)\n",
        "        X_classical_val = v.transform([x[0] for x in X_val])\n",
        "        X_embs_val = [x[1] for x in X_val]\n",
        "        X_embs_val = np.asarray(X_embs_val)\n",
        "        X_val = hstack((X_classical_val, X_embs_val)) # We concatenate the feature vectors\n",
        "\n",
        "        print('Vectorizing test...')\n",
        "        X_test, y_test, unk_te = transform_to_dataset(test, window=window)\n",
        "        X_classical_test = v.transform([x[0] for x in X_test])\n",
        "        X_embs_test = [x[1] for x in X_test]\n",
        "        X_embs_test = np.asarray(X_embs_test)\n",
        "        X_test = hstack((X_classical_test, X_embs_test)) # We concatenate the feature vectors\n",
        "\n",
        "        print('Dataset vectorized.')\n",
        "        print('Train shape:', X_train.shape)\n",
        "        print('Validation shape:', X_val.shape)\n",
        "        print('Test shape:', X_test.shape)\n",
        "        del X_classical_test, X_embs_test\n",
        "        print('Found %s unknown words in train set %s unknown words in validation set and %s unknown words in test set' % (unk_tr, unk_val, unk_te))\n",
        "        X_train = X_train.tocsr() # Because we have sparce matrix\n",
        "        X_val = X_val.tocsr() # Because we have sparce matrix\n",
        "        X_test = X_test.tocsr() # Because we have sparce matrix\n",
        "        gc.collect()\n",
        "        return X_train, y_train, X_val, y_val, X_test, y_test, v"
      ]
    },
    {
      "cell_type": "markdown",
      "metadata": {
        "id": "ucmxhSc-aoFf"
      },
      "source": [
        "### Using a basic unigram as baseline"
      ]
    },
    {
      "cell_type": "code",
      "execution_count": 37,
      "metadata": {
        "id": "rVrIZsZ9bHtL"
      },
      "outputs": [],
      "source": [
        "default_tagger = nltk.DefaultTagger('NN')\n",
        "unigram_tagger = nltk.UnigramTagger(train_sentences+val_sentences, backoff=default_tagger)"
      ]
    },
    {
      "cell_type": "code",
      "execution_count": 38,
      "metadata": {
        "id": "mRgIdDvhbLfN"
      },
      "outputs": [],
      "source": [
        "y_train = [item for sublist in tag_sequence(train_sentences+val_sentences) for item in sublist]\n",
        "y_test = [item for sublist in tag_sequence(test_sentences) for item in sublist]\n",
        "classes = sorted(list(set(y_train)))"
      ]
    },
    {
      "cell_type": "code",
      "execution_count": 39,
      "metadata": {
        "id": "0Z-ri2anbR0S"
      },
      "outputs": [],
      "source": [
        "def tag_list(tagged_sents):\n",
        "    return [tag for sent in tagged_sents for (word, tag) in sent]\n",
        "def apply_tagger(tagger, corpus):\n",
        "    return [tagger.tag(nltk.tag.untag(sent)) for sent in corpus]"
      ]
    },
    {
      "cell_type": "code",
      "execution_count": 40,
      "metadata": {
        "colab": {
          "base_uri": "https://localhost:8080/"
        },
        "id": "c8PKMDHobUbu",
        "outputId": "d9a70e77-0d6e-4c7f-de52-83e5f394c087"
      },
      "outputs": [
        {
          "name": "stdout",
          "output_type": "stream",
          "text": [
            "Accuracy: 0.8603\n",
            "f1-macro score: 0.8266\n"
          ]
        }
      ],
      "source": [
        "y_pred = tag_list(apply_tagger(unigram_tagger, test_sentences))\n",
        "print(\"Accuracy: {0:.4f}\".format(unigram_tagger.accuracy(test_sentences)))\n",
        "print('f1-macro score: {0:.4f}'.format(f1_score(y_test, y_pred, average='macro')))"
      ]
    },
    {
      "cell_type": "code",
      "execution_count": 41,
      "metadata": {
        "colab": {
          "base_uri": "https://localhost:8080/"
        },
        "id": "QslvW7CPbZ5P",
        "outputId": "47915495-c7d6-4ecc-96fa-a7052ff49371"
      },
      "outputs": [
        {
          "name": "stdout",
          "output_type": "stream",
          "text": [
            "              precision    recall  f1-score   support\n",
            "\n",
            "         ADJ     0.8832    0.7803    0.8286       223\n",
            "         ADP     0.9452    0.8832    0.9131       488\n",
            "         ADV     0.9057    0.7500    0.8205       128\n",
            "         AUX     0.9286    1.0000    0.9630       234\n",
            "       CCONJ     1.0000    0.9896    0.9948        96\n",
            "         DET     0.9661    0.9749    0.9705       439\n",
            "        INTJ     1.0000    1.0000    1.0000         2\n",
            "          NN     0.0000    1.0000    0.0000         0\n",
            "        NOUN     0.9549    0.8143    0.8790       754\n",
            "         NUM     0.9649    0.9016    0.9322        61\n",
            "        PART     0.5323    1.0000    0.6947        66\n",
            "        PRON     0.9333    0.7706    0.8442       109\n",
            "       PROPN     0.8676    0.6556    0.7468        90\n",
            "       PUNCT     1.0000    1.0000    1.0000       339\n",
            "       SCONJ     0.6863    0.6863    0.6863        51\n",
            "        VERB     0.9316    0.6687    0.7786       326\n",
            "           X     1.0000    1.0000    1.0000         2\n",
            "\n",
            "    accuracy                         0.8603      3408\n",
            "   macro avg     0.8529    0.8750    0.8266      3408\n",
            "weighted avg     0.9352    0.8603    0.8917      3408\n",
            "\n"
          ]
        }
      ],
      "source": [
        "print(classification_report(y_test, y_pred, digits=4, zero_division=1))"
      ]
    },
    {
      "cell_type": "code",
      "execution_count": 42,
      "metadata": {
        "id": "sczm0jrMb-FA"
      },
      "outputs": [],
      "source": [
        "def check_tagger(tagged_sentence):\n",
        "    note = ''\n",
        "    for tup in list(zip(unigram_tagger.tag(untag(tagged_sentence)),untag_pos(tagged_sentence))):\n",
        "        if tup[0][1]!=tup[1]: note='<<--- Error!'\n",
        "        print(tup[0], tup[1], note)\n",
        "        note=''"
      ]
    },
    {
      "cell_type": "code",
      "execution_count": 43,
      "metadata": {
        "colab": {
          "base_uri": "https://localhost:8080/"
        },
        "id": "7agWNXN0cLpO",
        "outputId": "6e5bbe33-3ba4-4c54-ae58-4c88edd340db"
      },
      "outputs": [
        {
          "name": "stdout",
          "output_type": "stream",
          "text": [
            "('any', 'DET') DET \n",
            "('use', 'NOUN') NOUN \n",
            "('of', 'ADP') ADP \n",
            "('the', 'DET') DET \n",
            "('work', 'NOUN') NOUN \n",
            "('other', 'ADJ') ADJ \n",
            "('than', 'ADP') SCONJ <<--- Error!\n",
            "('as', 'ADP') ADP \n",
            "('authorized', 'NN') VERB <<--- Error!\n",
            "('under', 'ADP') ADP \n",
            "('this', 'DET') DET \n",
            "('license', 'NOUN') NOUN \n",
            "('or', 'CCONJ') CCONJ \n",
            "('copyright', 'NOUN') NOUN \n",
            "('law', 'NOUN') NOUN \n",
            "('is', 'AUX') AUX \n",
            "('prohibited', 'VERB') VERB \n",
            "('.', 'PUNCT') PUNCT \n"
          ]
        }
      ],
      "source": [
        "check_tagger(test_sentences[1])"
      ]
    },
    {
      "cell_type": "code",
      "execution_count": 47,
      "metadata": {
        "id": "lsD7Mza0cSxt"
      },
      "outputs": [],
      "source": [
        "cnf_matrix = confusion_matrix(y_test, y_pred)\n",
        "name='Baseline'"
      ]
    },
    {
      "cell_type": "code",
      "execution_count": 48,
      "metadata": {
        "colab": {
          "base_uri": "https://localhost:8080/",
          "height": 642
        },
        "id": "HOYEqLBVcWYf",
        "outputId": "1673e493-cf1e-45f1-df83-71b86de5fb5f"
      },
      "outputs": [
        {
          "data": {
            "image/png": "[encoded data removed]",
            "text/plain": [
              "<Figure size 1000x600 with 2 Axes>"
            ]
          },
          "metadata": {},
          "output_type": "display_data"
        }
      ],
      "source": [
        "plot_confusion_matrix(f1_score(y_test, y_pred, average='macro'), cnf_matrix, target_names=classes, title='Confusion matrix for '+name+' classifier', normalize=False)"
      ]
    },
    {
      "cell_type": "code",
      "execution_count": 51,
      "metadata": {
        "colab": {
          "base_uri": "https://localhost:8080/",
          "height": 752
        },
        "id": "Q--fh1Ryc0jR",
        "outputId": "63e5c818-af85-42c3-f0c0-8d8a65eee12e"
      },
      "outputs": [
        {
          "data": {
            "image/png": "[encoded data removed]",
            "text/plain": [
              "<Figure size 1000x800 with 2 Axes>"
            ]
          },
          "metadata": {},
          "output_type": "display_data"
        }
      ],
      "source": [
        "from sklearn.metrics import confusion_matrix\n",
        "import matplotlib.pyplot as plt\n",
        "import seaborn as sns\n",
        "\n",
        "# Assuming y_test and y_pred are your true labels and predicted labels, respectively\n",
        "cm = confusion_matrix(y_test, y_pred)\n",
        "\n",
        "# Assuming classes is a list of class labels\n",
        "classes = [\"ADJ\", \"ADP\", \"ADV\", \"AUX\", \"CCONJ\", \"DET\", \"INTJ\", \"NN\", \"NOUN\", \"NUM\", \"PART\", \"PRON\", \"PROPN\", \"PUNCT\", \"SCONJ\", \"VERB\", \"X\"]\n",
        "\n",
        "# Plot confusion matrix\n",
        "plt.figure(figsize=(10, 8))\n",
        "sns.heatmap(cm, annot=True, fmt=\"d\", cmap=\"Reds\", xticklabels=classes, yticklabels=classes)\n",
        "plt.title('Confusion matrix for your classifier')\n",
        "plt.xlabel('Predicted')\n",
        "plt.ylabel('True')\n",
        "plt.show()\n"
      ]
    },
    {
      "cell_type": "markdown",
      "metadata": {
        "id": "CAD7AlGgc5Xz"
      },
      "source": [
        "$$LOGREG_l$$"
      ]
    },
    {
      "cell_type": "code",
      "execution_count": 52,
      "metadata": {
        "colab": {
          "base_uri": "https://localhost:8080/"
        },
        "id": "d5WzXWYjc8go",
        "outputId": "8228ef81-b624-4532-9c85-89ac0a56189d"
      },
      "outputs": [
        {
          "name": "stdout",
          "output_type": "stream",
          "text": [
            "Embeddings window method\n",
            "Vectorizing Dataset...\n",
            "Vectorizing train...\n",
            "Vectorizing validation...\n",
            "Vectorizing test...\n",
            "Dataset vectorized.\n",
            "Train shape: (43503, 900)\n",
            "Validation shape: (2722, 900)\n",
            "Test shape: (3408, 900)\n",
            "Found 1476 unknown words in train set 78 unknown words in validation set and 50 unknown words in test set\n"
          ]
        }
      ],
      "source": [
        "X_train, y_train, X_val, y_val, X_test, y_test = vectorize(train_sentences, val_sentences, test_sentences,\n",
        "                                                           window=1, method='embs')"
      ]
    },
    {
      "cell_type": "code",
      "execution_count": 53,
      "metadata": {
        "colab": {
          "base_uri": "https://localhost:8080/"
        },
        "id": "PHJ_4POvdKco",
        "outputId": "38be29ea-d724-45e9-b610-834aae53e4cd"
      },
      "outputs": [
        {
          "name": "stdout",
          "output_type": "stream",
          "text": [
            "Classical method\n",
            "Vectorizing Dataset...\n",
            "Vectorizing train...\n",
            "Vectorizing validation...\n",
            "Vectorizing test...\n",
            "Dataset vectorized.\n",
            "Train shape: (43503, 28706)\n",
            "Validation shape: (2722, 28706)\n",
            "Test shape: (3408, 28706)\n"
          ]
        }
      ],
      "source": [
        "X_train, y_train, X_val, y_val, X_test, y_test, vec = vectorize(train_sentences, val_sentences, test_sentences, method='classical')"
      ]
    },
    {
      "cell_type": "code",
      "execution_count": 54,
      "metadata": {
        "colab": {
          "base_uri": "https://localhost:8080/"
        },
        "id": "4OSe7M_NdUyv",
        "outputId": "b91f77f5-f308-4157-be0e-3877c0cc884d"
      },
      "outputs": [
        {
          "name": "stdout",
          "output_type": "stream",
          "text": [
            "Combined Classical - Embeddings window method\n",
            "Vectorizing Dataset...\n",
            "Vectorizing train...\n",
            "Vectorizing validation...\n",
            "Vectorizing test...\n",
            "Dataset vectorized.\n",
            "Train shape: (43503, 30206)\n",
            "Validation shape: (2722, 30206)\n",
            "Test shape: (3408, 30206)\n",
            "Found 2396 unknown words in train set 123 unknown words in validation set and 79 unknown words in test set\n"
          ]
        }
      ],
      "source": [
        "X_train, y_train, X_val, y_val, X_test, y_test, vec = vectorize(train_sentences, val_sentences, test_sentences, window=2, method='boosted')"
      ]
    },
    {
      "cell_type": "markdown",
      "metadata": {
        "id": "fiacyh37dvec"
      },
      "source": [
        "## Hyper-paramater Tuning"
      ]
    },
    {
      "cell_type": "code",
      "execution_count": 55,
      "metadata": {
        "id": "ptP1htIcdsGQ"
      },
      "outputs": [],
      "source": [
        "X_train = vstack((X_train, X_val))\n",
        "y_train = np.append(y_train, y_val, axis=0)"
      ]
    },
    {
      "cell_type": "code",
      "execution_count": 56,
      "metadata": {
        "colab": {
          "base_uri": "https://localhost:8080/"
        },
        "id": "ahJ6g6hkdy_I",
        "outputId": "57440bee-9bed-4b10-f9a4-c3db2919262f"
      },
      "outputs": [
        {
          "data": {
            "text/plain": [
              "(46225, 30206)"
            ]
          },
          "execution_count": 56,
          "metadata": {},
          "output_type": "execute_result"
        }
      ],
      "source": [
        "X_train.shape"
      ]
    },
    {
      "cell_type": "code",
      "execution_count": 57,
      "metadata": {
        "colab": {
          "base_uri": "https://localhost:8080/"
        },
        "id": "qAUDPWPpd3mX",
        "outputId": "7bd61be8-6611-47b1-d37f-10a411fcbbf1"
      },
      "outputs": [
        {
          "data": {
            "text/plain": [
              "46225"
            ]
          },
          "execution_count": 57,
          "metadata": {},
          "output_type": "execute_result"
        }
      ],
      "source": [
        "len(y_train)"
      ]
    },
    {
      "cell_type": "code",
      "execution_count": 58,
      "metadata": {
        "id": "MXMTM1lxecJU"
      },
      "outputs": [],
      "source": [
        "def hyper_tuning(train, test, y_train, y_test, scores, estimator, parameters, cv):\n",
        "    print(\"# Estimator:\",estimator)\n",
        "    for score in scores:\n",
        "        print(\"# Tuning hyper-parameters for %s\" % score)\n",
        "        clf = GridSearchCV(estimator, parameters, cv=cv, scoring='%s' % score)\n",
        "        clf.fit(train, y_train)\n",
        "        print(\"Best parameters set found on development set:\")\n",
        "        print(clf.best_params_)\n",
        "        print()\n",
        "        print(\"Grid scores on development set:\")\n",
        "        means = clf.cv_results_['mean_test_score']\n",
        "        stds = clf.cv_results_['std_test_score']\n",
        "        for mean, std, params in zip(means, stds, clf.cv_results_['params']):\n",
        "            print(\"%0.3f (+/-%0.03f) for %r\" % (mean, std * 2, params))\n",
        "        print()\n",
        "        print(\"Detailed classification report:\")\n",
        "        print(\"The model is trained on the full development set.\")\n",
        "        print(\"The scores are computed on the full evaluation set.\")\n",
        "        y_pred = clf.predict(test)\n",
        "        print(classification_report(y_test, y_pred, digits=4))\n",
        "        print('Accuracy: {0:0.4f}   f1-score: {1:0.4f} \\n'.format(accuracy_score(y_test, y_pred), f1_score(y_test, y_pred, average='macro')))\n",
        "    return clf"
      ]
    },
    {
      "cell_type": "code",
      "execution_count": 59,
      "metadata": {
        "colab": {
          "base_uri": "https://localhost:8080/"
        },
        "id": "x0Be7R9de2e-",
        "outputId": "ba7c9669-23b8-4191-ea3a-af1edb124d5c"
      },
      "outputs": [
        {
          "name": "stdout",
          "output_type": "stream",
          "text": [
            "# Estimator: LogisticRegression(random_state=13, solver='liblinear')\n",
            "# Tuning hyper-parameters for accuracy\n"
          ]
        },
        {
          "name": "stderr",
          "output_type": "stream",
          "text": [
            "C:\\Users\\peter\\AppData\\Local\\Packages\\PythonSoftwareFoundation.Python.3.11_qbz5n2kfra8p0\\LocalCache\\local-packages\\Python311\\site-packages\\sklearn\\model_selection\\_split.py:737: UserWarning: The least populated class in y has only 2 members, which is less than n_splits=5.\n",
            "  warnings.warn(\n"
          ]
        },
        {
          "name": "stdout",
          "output_type": "stream",
          "text": [
            "Best parameters set found on development set:\n",
            "{'C': 2}\n",
            "\n",
            "Grid scores on development set:\n",
            "0.880 (+/-0.075) for {'C': 0.1}\n",
            "0.916 (+/-0.055) for {'C': 1}\n",
            "0.928 (+/-0.056) for {'C': 2}\n",
            "0.926 (+/-0.055) for {'C': 3}\n",
            "\n",
            "Detailed classification report:\n",
            "The model is trained on the full development set.\n",
            "The scores are computed on the full evaluation set.\n",
            "              precision    recall  f1-score   support\n",
            "\n",
            "         ADJ     0.3333    1.0000    0.5000         1\n",
            "         ADP     1.0000    1.0000    1.0000         8\n",
            "         ADV     0.0000    0.0000    0.0000         1\n",
            "         AUX     1.0000    1.0000    1.0000         1\n",
            "       CCONJ     1.0000    1.0000    1.0000         3\n",
            "         DET     1.0000    1.0000    1.0000         7\n",
            "        NOUN     0.8571    0.9231    0.8889        13\n",
            "         NUM     0.0000    0.0000    0.0000         1\n",
            "       PROPN     1.0000    1.0000    1.0000         1\n",
            "       PUNCT     0.8333    1.0000    0.9091         5\n",
            "       SCONJ     0.0000    0.0000    0.0000         2\n",
            "        VERB     1.0000    1.0000    1.0000         7\n",
            "\n",
            "    accuracy                         0.9000        50\n",
            "   macro avg     0.6687    0.7436    0.6915        50\n",
            "weighted avg     0.8529    0.9000    0.8720        50\n",
            "\n",
            "Accuracy: 0.9000   f1-score: 0.6915 \n",
            "\n",
            "# Tuning hyper-parameters for f1_macro\n"
          ]
        },
        {
          "name": "stderr",
          "output_type": "stream",
          "text": [
            "C:\\Users\\peter\\AppData\\Local\\Packages\\PythonSoftwareFoundation.Python.3.11_qbz5n2kfra8p0\\LocalCache\\local-packages\\Python311\\site-packages\\sklearn\\metrics\\_classification.py:1471: UndefinedMetricWarning: Precision and F-score are ill-defined and being set to 0.0 in labels with no predicted samples. Use `zero_division` parameter to control this behavior.\n",
            "  _warn_prf(average, modifier, msg_start, len(result))\n",
            "C:\\Users\\peter\\AppData\\Local\\Packages\\PythonSoftwareFoundation.Python.3.11_qbz5n2kfra8p0\\LocalCache\\local-packages\\Python311\\site-packages\\sklearn\\metrics\\_classification.py:1471: UndefinedMetricWarning: Precision and F-score are ill-defined and being set to 0.0 in labels with no predicted samples. Use `zero_division` parameter to control this behavior.\n",
            "  _warn_prf(average, modifier, msg_start, len(result))\n",
            "C:\\Users\\peter\\AppData\\Local\\Packages\\PythonSoftwareFoundation.Python.3.11_qbz5n2kfra8p0\\LocalCache\\local-packages\\Python311\\site-packages\\sklearn\\metrics\\_classification.py:1471: UndefinedMetricWarning: Precision and F-score are ill-defined and being set to 0.0 in labels with no predicted samples. Use `zero_division` parameter to control this behavior.\n",
            "  _warn_prf(average, modifier, msg_start, len(result))\n",
            "C:\\Users\\peter\\AppData\\Local\\Packages\\PythonSoftwareFoundation.Python.3.11_qbz5n2kfra8p0\\LocalCache\\local-packages\\Python311\\site-packages\\sklearn\\model_selection\\_split.py:737: UserWarning: The least populated class in y has only 2 members, which is less than n_splits=5.\n",
            "  warnings.warn(\n"
          ]
        },
        {
          "name": "stdout",
          "output_type": "stream",
          "text": [
            "Best parameters set found on development set:\n",
            "{'C': 2}\n",
            "\n",
            "Grid scores on development set:\n",
            "0.722 (+/-0.145) for {'C': 0.1}\n",
            "0.810 (+/-0.087) for {'C': 1}\n",
            "0.840 (+/-0.119) for {'C': 2}\n",
            "0.836 (+/-0.110) for {'C': 3}\n",
            "\n",
            "Detailed classification report:\n",
            "The model is trained on the full development set.\n",
            "The scores are computed on the full evaluation set.\n",
            "              precision    recall  f1-score   support\n",
            "\n",
            "         ADJ     0.3333    1.0000    0.5000         1\n",
            "         ADP     1.0000    1.0000    1.0000         8\n",
            "         ADV     0.0000    0.0000    0.0000         1\n",
            "         AUX     1.0000    1.0000    1.0000         1\n",
            "       CCONJ     1.0000    1.0000    1.0000         3\n",
            "         DET     1.0000    1.0000    1.0000         7\n",
            "        NOUN     0.8571    0.9231    0.8889        13\n",
            "         NUM     0.0000    0.0000    0.0000         1\n",
            "       PROPN     1.0000    1.0000    1.0000         1\n",
            "       PUNCT     0.8333    1.0000    0.9091         5\n",
            "       SCONJ     0.0000    0.0000    0.0000         2\n",
            "        VERB     1.0000    1.0000    1.0000         7\n",
            "\n",
            "    accuracy                         0.9000        50\n",
            "   macro avg     0.6687    0.7436    0.6915        50\n",
            "weighted avg     0.8529    0.9000    0.8720        50\n",
            "\n",
            "Accuracy: 0.9000   f1-score: 0.6915 \n",
            "\n"
          ]
        },
        {
          "name": "stderr",
          "output_type": "stream",
          "text": [
            "C:\\Users\\peter\\AppData\\Local\\Packages\\PythonSoftwareFoundation.Python.3.11_qbz5n2kfra8p0\\LocalCache\\local-packages\\Python311\\site-packages\\sklearn\\metrics\\_classification.py:1471: UndefinedMetricWarning: Precision and F-score are ill-defined and being set to 0.0 in labels with no predicted samples. Use `zero_division` parameter to control this behavior.\n",
            "  _warn_prf(average, modifier, msg_start, len(result))\n",
            "C:\\Users\\peter\\AppData\\Local\\Packages\\PythonSoftwareFoundation.Python.3.11_qbz5n2kfra8p0\\LocalCache\\local-packages\\Python311\\site-packages\\sklearn\\metrics\\_classification.py:1471: UndefinedMetricWarning: Precision and F-score are ill-defined and being set to 0.0 in labels with no predicted samples. Use `zero_division` parameter to control this behavior.\n",
            "  _warn_prf(average, modifier, msg_start, len(result))\n",
            "C:\\Users\\peter\\AppData\\Local\\Packages\\PythonSoftwareFoundation.Python.3.11_qbz5n2kfra8p0\\LocalCache\\local-packages\\Python311\\site-packages\\sklearn\\metrics\\_classification.py:1471: UndefinedMetricWarning: Precision and F-score are ill-defined and being set to 0.0 in labels with no predicted samples. Use `zero_division` parameter to control this behavior.\n",
            "  _warn_prf(average, modifier, msg_start, len(result))\n"
          ]
        }
      ],
      "source": [
        "import warnings\n",
        "from sklearn.exceptions import ConvergenceWarning\n",
        "\n",
        "# from sklearn.metrics import UndefinedMetricWarning\n",
        "# import warnings\n",
        "\n",
        "# warnings.filterwarnings(action='ignore', category=UndefinedMetricWarning)\n",
        "\n",
        "\n",
        "# Ignore ConvergenceWarning from LogisticRegression\n",
        "warnings.filterwarnings(\"ignore\", category=ConvergenceWarning)\n",
        "\n",
        "logregr = LogisticRegression(solver='liblinear', multi_class='auto', random_state=13)\n",
        "# Cross validation strategy\n",
        "skf = StratifiedKFold(n_splits=5, shuffle=True, random_state=1)\n",
        "# Scores could also be ['precision', 'recall', ....]\n",
        "scores = ['accuracy', 'f1_macro']\n",
        "\n",
        "params = [{'C': [0.1, 1, 2, 3]}]\n",
        "#logregr = hyper_tuning(X_train, X_test, y_train, y_test, scores, logregr, params, skf)\n",
        "#You may want to comment previous line and comment-out next lines to see how hyper-tuning works and dont wait too much time...\n",
        "# skf = StratifiedKFold(n_splits=5, random_state=1)\n",
        "logregr = hyper_tuning(X_train[:500], X_test[:50], y_train[:500], y_test[:50], scores, logregr, params, skf)"
      ]
    },
    {
      "cell_type": "markdown",
      "metadata": {
        "id": "jSgmDQD_igMO"
      },
      "source": [
        "## TRAINING"
      ]
    },
    {
      "cell_type": "code",
      "execution_count": 60,
      "metadata": {
        "id": "fal92357ifOR"
      },
      "outputs": [
        {
          "name": "stdout",
          "output_type": "stream",
          "text": [
            "Training...\n",
            "Training completed in 344.860302 seconds\n"
          ]
        }
      ],
      "source": [
        "t_ini = datetime.datetime.now()\n",
        "print('Training...')\n",
        "clf = LogisticRegression(C=1, solver='liblinear', multi_class='auto', random_state=13)\n",
        "clf.fit(X_train, y_train)\n",
        "t_fin = datetime.datetime.now()\n",
        "print('Training completed in {} seconds'.format((t_fin - t_ini).total_seconds()))"
      ]
    },
    {
      "cell_type": "markdown",
      "metadata": {
        "id": "gvAITEImjJqX"
      },
      "source": [
        "## Model Evaluation"
      ]
    },
    {
      "cell_type": "code",
      "execution_count": 61,
      "metadata": {
        "id": "CeJcqmBujHxx"
      },
      "outputs": [],
      "source": [
        "y_pred = clf.predict(X_test)"
      ]
    },
    {
      "cell_type": "code",
      "execution_count": 62,
      "metadata": {
        "id": "ryyPvleFjOSc"
      },
      "outputs": [
        {
          "name": "stdout",
          "output_type": "stream",
          "text": [
            "Accuracy: 0.9648\n",
            "f1-macro score: 0.9545\n"
          ]
        }
      ],
      "source": [
        "print(\"Accuracy: {0:.4f}\".format(clf.score(X_test, y_test)))\n",
        "print('f1-macro score: {0:.4f}'.format(f1_score(y_test, y_pred, average='macro')))"
      ]
    },
    {
      "attachments": {
        "The-structure-of-the-feedforward-neural-network-approach-algorithm-is-shown-Basically.png": {
          "image/png": "[encoded data removed]"
        }
      },
      "cell_type": "markdown",
      "metadata": {
        "id": "Ke-OZQmYmc9Q"
      },
      "source": [
        "## Using a FF Neural Network\n",
        "![The-structure-of-the-feedforward-neural-network-approach-algorithm-is-shown-Basically.png](attachment:The-structure-of-the-feedforward-neural-network-approach-algorithm-is-shown-Basically.png)"
      ]
    },
    {
      "cell_type": "code",
      "execution_count": 63,
      "metadata": {
        "colab": {
          "base_uri": "https://localhost:8080/"
        },
        "id": "3gj1RlztmgiY",
        "outputId": "ed391559-15d7-4718-fbe4-f6f816129768"
      },
      "outputs": [
        {
          "name": "stdout",
          "output_type": "stream",
          "text": [
            "Embeddings window method\n",
            "Vectorizing Dataset...\n",
            "Vectorizing train...\n",
            "Vectorizing validation...\n",
            "Vectorizing test...\n",
            "Dataset vectorized.\n",
            "Train shape: (43503, 900)\n",
            "Validation shape: (2722, 900)\n",
            "Test shape: (3408, 900)\n",
            "Found 1476 unknown words in train set 78 unknown words in validation set and 50 unknown words in test set\n"
          ]
        }
      ],
      "source": [
        "X_train, y_train, X_val, y_val, X_test, y_test = vectorize(train_sentences, val_sentences, test_sentences, window=1, method='embs')"
      ]
    },
    {
      "cell_type": "code",
      "execution_count": 64,
      "metadata": {
        "colab": {
          "base_uri": "https://localhost:8080/"
        },
        "id": "NHHjrlBJnvGZ",
        "outputId": "128cbc2d-c5e8-494e-cbda-6b2013bb9e8b"
      },
      "outputs": [
        {
          "name": "stdout",
          "output_type": "stream",
          "text": [
            "Classical method\n",
            "Vectorizing Dataset...\n",
            "Vectorizing train...\n",
            "Vectorizing validation...\n",
            "Vectorizing test...\n",
            "Dataset vectorized.\n",
            "Train shape: (43503, 28706)\n",
            "Validation shape: (2722, 28706)\n",
            "Test shape: (3408, 28706)\n"
          ]
        }
      ],
      "source": [
        "X_train, y_train, X_val, y_val, X_test, y_test, vec = vectorize(train_sentences, val_sentences, test_sentences, method='classical')"
      ]
    },
    {
      "cell_type": "code",
      "execution_count": 65,
      "metadata": {
        "colab": {
          "base_uri": "https://localhost:8080/"
        },
        "id": "kTHJKbAKn1fd",
        "outputId": "ecbe2032-3b11-481f-9d04-5e8d71c07ddb"
      },
      "outputs": [
        {
          "name": "stdout",
          "output_type": "stream",
          "text": [
            "Combined Classical - Embeddings window method\n",
            "Vectorizing Dataset...\n",
            "Vectorizing train...\n",
            "Vectorizing validation...\n",
            "Vectorizing test...\n",
            "Dataset vectorized.\n",
            "Train shape: (43503, 30206)\n",
            "Validation shape: (2722, 30206)\n",
            "Test shape: (3408, 30206)\n",
            "Found 2396 unknown words in train set 123 unknown words in validation set and 79 unknown words in test set\n"
          ]
        }
      ],
      "source": [
        "X_train, y_train, X_val, y_val, X_test, y_test, vec = vectorize(train_sentences, val_sentences, test_sentences, window=2, method='boosted')"
      ]
    },
    {
      "cell_type": "markdown",
      "metadata": {
        "id": "FywPHnRCn8Vz"
      },
      "source": [
        "#### 1-hot encoding of labels"
      ]
    },
    {
      "cell_type": "code",
      "execution_count": 66,
      "metadata": {
        "id": "PINNeH24n6-3"
      },
      "outputs": [],
      "source": [
        "classes = sorted(list(set(y_train)))"
      ]
    },
    {
      "cell_type": "code",
      "execution_count": 67,
      "metadata": {
        "colab": {
          "base_uri": "https://localhost:8080/"
        },
        "id": "jIHAfEMioCl6",
        "outputId": "d375003e-5c3b-4903-b608-e8d6fb9d13ab"
      },
      "outputs": [
        {
          "name": "stdout",
          "output_type": "stream",
          "text": [
            "(43503, 17)\n"
          ]
        }
      ],
      "source": [
        "le = preprocessing.LabelEncoder()\n",
        "y_train = le.fit_transform(y_train)\n",
        "y_val = le.transform(y_val)\n",
        "y_test = le.transform(y_test)\n",
        "y_train = keras.utils.to_categorical(y_train)\n",
        "y_val = keras.utils.to_categorical(y_val)\n",
        "y_test = keras.utils.to_categorical(y_test)\n",
        "\n",
        "print(y_train.shape)"
      ]
    },
    {
      "cell_type": "code",
      "execution_count": 68,
      "metadata": {
        "id": "mFcLJJvLoEvg"
      },
      "outputs": [],
      "source": [
        "# Class to compute f1, precision and recall after each epoch\n",
        "from keras.callbacks import Callback\n",
        "\n",
        "class mymetrics(Callback):\n",
        "    def on_train_begin(self, logs={}):\n",
        "        self.val_f1s = []\n",
        "        self.val_recalls = []\n",
        "        self.val_precisions = []\n",
        "\n",
        "    def on_epoch_end(self, epoch, logs={}):\n",
        "\n",
        "        if self.validation_data is None:\n",
        "            print(\"Validation data is not available. Skipping metrics calculation.\")\n",
        "            return\n",
        "\n",
        "        val_predict = (np.asarray(self.model.predict(self.validation_data[0]))).round()\n",
        "        val_targ = self.validation_data[1]\n",
        "        val_predict = (np.asarray(self.model.predict(self.validation_data[0]))).round()\n",
        "        val_targ = self.validation_data[1]\n",
        "        #y_test.argmax(axis=1), y_pred.argmax(axis=1)\n",
        "\n",
        "        val_targ=val_targ.argmax(axis=1)\n",
        "        val_predict=val_predict.argmax(axis=1)\n",
        "\n",
        "        _val_f1 = f1_score(val_targ, val_predict, average='macro')\n",
        "        _val_recall = recall_score(val_targ, val_predict, average='macro')\n",
        "        _val_precision = precision_score(val_targ, val_predict, average='macro')\n",
        "        self.val_f1s.append(_val_f1)\n",
        "        self.val_recalls.append(_val_recall)\n",
        "        self.val_precisions.append(_val_precision)\n",
        "        print(' — val_precision: %f — val_recall: %f — val_f1 %f' %(_val_precision, _val_recall, _val_f1))\n",
        "        return\n",
        "\n",
        "\n",
        "# class MyMetrics(Callback):\n",
        "#     def on_epoch_end(self, epoch, logs={}):\n",
        "#         if self.validation_data is None:\n",
        "#             print(\"Validation data is not available. Skipping metrics calculation.\")\n",
        "#             return\n",
        "\n",
        "#         val_predict = (np.asarray(self.model.predict(self.validation_data[0]))).round()\n",
        "#         val_targ = self.validation_data[1]\n",
        "\n",
        "#         # Rest of your code for metrics calculation\n",
        "#         # ...\n",
        "\n",
        "# # ... (the rest of your code remains unchanged)\n",
        "\n",
        "# history = model.fit(X_train, y_train,\n",
        "#                     epochs=nb_epoch,\n",
        "#                     batch_size=batch_size,\n",
        "#                     shuffle=True,\n",
        "#                     validation_data=(X_val, y_val),\n",
        "#                     verbose=1,\n",
        "#                     callbacks=[cp, tb, early_stopping, MyMetrics()])\n"
      ]
    },
    {
      "cell_type": "code",
      "execution_count": 69,
      "metadata": {
        "id": "D4IirXP8oHAp"
      },
      "outputs": [],
      "source": [
        "mymetrics = mymetrics()"
      ]
    },
    {
      "cell_type": "markdown",
      "metadata": {
        "id": "egPzSVBdoUQ8"
      },
      "source": [
        "### Model Training"
      ]
    },
    {
      "cell_type": "markdown",
      "metadata": {},
      "source": [
        "##### Batch Normoalization \n"
      ]
    },
    {
      "cell_type": "markdown",
      "metadata": {},
      "source": [
        "Consider the following generalization curve, which shows the loss for both the training set and validation set against the number of training iterations.\n",
        "![Alt text](../../../AppData/Local/Temp/RegularizationTwoLossFunctions.svg)\n",
        "The above figure shows a model in which training loss gradually decreases, but validation loss eventually goes up. In other words, this generalization curve shows that the model is overfitting to the data in the training set. Channeling our inner Ockham, perhaps we could prevent overfitting by penalizing complex models, a principle called regularization.\n",
        "\n",
        "In other words, instead of simply aiming to minimize loss (empirical risk minimization):\n",
        "$$\\text{minimize(Loss(Data|Model))}$$\n",
        "\n",
        "we'll now minimize loss+complexity, which is called structural risk minimization:\n",
        "$$\\text{minimize(Loss(Data|Model) + complexity(Model))}$$\n",
        "\n",
        "If model complexity is a function of weights, a feature weight with a high absolute value is more complex than a feature weight with a low absolute value.\n",
        "We can quantify complexity using the L2 regularization formula, which defines the regularization term as the sum of the squares of all the feature weights:\n",
        "$$L_2\\text{ regularization term} = ||\\boldsymbol w||_2^2 = {w_1^2 + w_2^2 + ... + w_n^2}$$\n",
        "In this formula, weights close to zero have little effect on model complexity, while outlier weights can have a huge impact."
      ]
    },
    {
      "cell_type": "code",
      "execution_count": 70,
      "metadata": {
        "colab": {
          "base_uri": "https://localhost:8080/"
        },
        "id": "TonN1cjqoJUh",
        "outputId": "140f13e0-886b-4e3c-e5a4-7dfde407dea7"
      },
      "outputs": [
        {
          "name": "stdout",
          "output_type": "stream",
          "text": [
            "WARNING:tensorflow:From C:\\Users\\peter\\AppData\\Local\\Packages\\PythonSoftwareFoundation.Python.3.11_qbz5n2kfra8p0\\LocalCache\\local-packages\\Python311\\site-packages\\keras\\src\\backend.py:873: The name tf.get_default_graph is deprecated. Please use tf.compat.v1.get_default_graph instead.\n",
            "\n",
            "WARNING:tensorflow:From C:\\Users\\peter\\AppData\\Local\\Packages\\PythonSoftwareFoundation.Python.3.11_qbz5n2kfra8p0\\LocalCache\\local-packages\\Python311\\site-packages\\keras\\src\\optimizers\\__init__.py:309: The name tf.train.Optimizer is deprecated. Please use tf.compat.v1.train.Optimizer instead.\n",
            "\n",
            "Model: \"sequential\"\n",
            "_________________________________________________________________\n",
            " Layer (type)                Output Shape              Param #   \n",
            "=================================================================\n",
            " dense (Dense)               (None, 200)               6041400   \n",
            "                                                                 \n",
            " batch_normalization (Batch  (None, 200)               800       \n",
            " Normalization)                                                  \n",
            "                                                                 \n",
            " dropout (Dropout)           (None, 200)               0         \n",
            "                                                                 \n",
            " dense_1 (Dense)             (None, 64)                12864     \n",
            "                                                                 \n",
            " batch_normalization_1 (Bat  (None, 64)                256       \n",
            " chNormalization)                                                \n",
            "                                                                 \n",
            " dropout_1 (Dropout)         (None, 64)                0         \n",
            "                                                                 \n",
            " dense_2 (Dense)             (None, 17)                1105      \n",
            "                                                                 \n",
            "=================================================================\n",
            "Total params: 6056425 (23.10 MB)\n",
            "Trainable params: 6055897 (23.10 MB)\n",
            "Non-trainable params: 528 (2.06 KB)\n",
            "_________________________________________________________________\n"
          ]
        }
      ],
      "source": [
        "from keras import regularizers\n",
        "from keras.layers import LeakyReLU\n",
        "from sklearn.metrics import roc_auc_score\n",
        "from keras.models import Sequential\n",
        "from keras.layers import Dense, BatchNormalization, Dropout\n",
        "from keras.optimizers import Adam\n",
        "\n",
        "\n",
        "# model = Sequential()\n",
        "# Dense(200) is a fully-connected layer with 200 hidden units.\n",
        "# In the first layer, we specify the input data shape\n",
        "\n",
        "# model.add(Dense(200, activation='relu', input_dim=X_train.shape[1]))\n",
        "# model.add(BatchNormalization())\n",
        "# model.add(Dropout(0.5))\n",
        "\n",
        "# model.add(Dense(64, activation='relu'))\n",
        "# model.add(BatchNormalization())\n",
        "# model.add(Dropout(0.4))\n",
        "# model.add(Dense(y_train.shape[1], activation='softmax'))\n",
        "\n",
        "# model.compile(optimizer='adam', loss='categorical_crossentropy', metrics=['accuracy'])\n",
        "# model.summary()\n",
        "\n",
        "\n",
        "model = Sequential()\n",
        "model.add(Dense(200, activation=LeakyReLU(alpha=0.1), input_dim=X_train.shape[1], kernel_regularizer=regularizers.l2(0.01)))\n",
        "model.add(BatchNormalization())\n",
        "model.add(Dropout(0.5))\n",
        "\n",
        "model.add(Dense(64, activation=LeakyReLU(alpha=0.1), kernel_regularizer=regularizers.l2(0.01)))\n",
        "model.add(BatchNormalization())\n",
        "model.add(Dropout(0.4))\n",
        "model.add(Dense(y_train.shape[1], activation='softmax'))\n",
        "\n",
        "model.compile(optimizer='adam', loss='categorical_crossentropy', metrics=['accuracy'])\n",
        "model.summary()"
      ]
    },
    {
      "cell_type": "markdown",
      "metadata": {
        "id": "XRy9IqKJoRbx"
      },
      "source": [
        "### Model Tuning"
      ]
    },
    {
      "cell_type": "code",
      "execution_count": 71,
      "metadata": {
        "colab": {
          "base_uri": "https://localhost:8080/"
        },
        "id": "T3se_yZQoPEY",
        "outputId": "90af333e-88fa-49ee-bbcc-54241a113202"
      },
      "outputs": [
        {
          "name": "stdout",
          "output_type": "stream",
          "text": [
            "Epoch 1/30\n",
            "WARNING:tensorflow:From C:\\Users\\peter\\AppData\\Local\\Packages\\PythonSoftwareFoundation.Python.3.11_qbz5n2kfra8p0\\LocalCache\\local-packages\\Python311\\site-packages\\keras\\src\\utils\\tf_utils.py:492: The name tf.ragged.RaggedTensorValue is deprecated. Please use tf.compat.v1.ragged.RaggedTensorValue instead.\n",
            "\n",
            "WARNING:tensorflow:From C:\\Users\\peter\\AppData\\Local\\Packages\\PythonSoftwareFoundation.Python.3.11_qbz5n2kfra8p0\\LocalCache\\local-packages\\Python311\\site-packages\\keras\\src\\engine\\base_layer_utils.py:384: The name tf.executing_eagerly_outside_functions is deprecated. Please use tf.compat.v1.executing_eagerly_outside_functions instead.\n",
            "\n",
            "340/340 [==============================] - ETA: 0s - loss: 1.5595 - accuracy: 0.8744WARNING:tensorflow:Can save best model only with val_acc available, skipping.\n",
            "Validation data is not available. Skipping metrics calculation.\n",
            "340/340 [==============================] - 68s 188ms/step - loss: 1.5595 - accuracy: 0.8744 - val_loss: 1.2493 - val_accuracy: 0.9137\n",
            "Epoch 2/30\n",
            "340/340 [==============================] - ETA: 0s - loss: 0.8996 - accuracy: 0.9192WARNING:tensorflow:Can save best model only with val_acc available, skipping.\n",
            "Validation data is not available. Skipping metrics calculation.\n",
            "340/340 [==============================] - 59s 172ms/step - loss: 0.8996 - accuracy: 0.9192 - val_loss: 0.8287 - val_accuracy: 0.9236\n",
            "Epoch 3/30\n",
            "340/340 [==============================] - ETA: 0s - loss: 0.8461 - accuracy: 0.9186WARNING:tensorflow:Can save best model only with val_acc available, skipping.\n",
            "Validation data is not available. Skipping metrics calculation.\n",
            "340/340 [==============================] - 64s 188ms/step - loss: 0.8461 - accuracy: 0.9186 - val_loss: 0.8131 - val_accuracy: 0.9265\n",
            "Epoch 4/30\n",
            "340/340 [==============================] - ETA: 0s - loss: 0.8135 - accuracy: 0.9235WARNING:tensorflow:Can save best model only with val_acc available, skipping.\n",
            "Validation data is not available. Skipping metrics calculation.\n",
            "340/340 [==============================] - 74s 216ms/step - loss: 0.8135 - accuracy: 0.9235 - val_loss: 0.7808 - val_accuracy: 0.9295\n",
            "Epoch 5/30\n",
            "340/340 [==============================] - ETA: 0s - loss: 0.8187 - accuracy: 0.9200WARNING:tensorflow:Can save best model only with val_acc available, skipping.\n",
            "Validation data is not available. Skipping metrics calculation.\n",
            "340/340 [==============================] - 77s 228ms/step - loss: 0.8187 - accuracy: 0.9200 - val_loss: 0.7971 - val_accuracy: 0.9192\n",
            "Epoch 6/30\n",
            "340/340 [==============================] - ETA: 0s - loss: 0.7877 - accuracy: 0.9233WARNING:tensorflow:Can save best model only with val_acc available, skipping.\n",
            "Validation data is not available. Skipping metrics calculation.\n",
            "340/340 [==============================] - 86s 252ms/step - loss: 0.7877 - accuracy: 0.9233 - val_loss: 0.7458 - val_accuracy: 0.9232\n",
            "Epoch 7/30\n",
            "340/340 [==============================] - ETA: 0s - loss: 0.7814 - accuracy: 0.9224WARNING:tensorflow:Can save best model only with val_acc available, skipping.\n",
            "Validation data is not available. Skipping metrics calculation.\n",
            "340/340 [==============================] - 69s 200ms/step - loss: 0.7814 - accuracy: 0.9224 - val_loss: 0.7431 - val_accuracy: 0.9291\n",
            "Epoch 8/30\n",
            "340/340 [==============================] - ETA: 0s - loss: 0.7715 - accuracy: 0.9243WARNING:tensorflow:Can save best model only with val_acc available, skipping.\n",
            "Validation data is not available. Skipping metrics calculation.\n",
            "340/340 [==============================] - 63s 184ms/step - loss: 0.7715 - accuracy: 0.9243 - val_loss: 0.7631 - val_accuracy: 0.9298\n",
            "Epoch 9/30\n",
            "340/340 [==============================] - ETA: 0s - loss: 0.7777 - accuracy: 0.9232WARNING:tensorflow:Can save best model only with val_acc available, skipping.\n",
            "Validation data is not available. Skipping metrics calculation.\n",
            "340/340 [==============================] - 63s 184ms/step - loss: 0.7777 - accuracy: 0.9232 - val_loss: 0.7440 - val_accuracy: 0.9306\n",
            "Epoch 10/30\n",
            "340/340 [==============================] - ETA: 0s - loss: 0.7806 - accuracy: 0.9227WARNING:tensorflow:Can save best model only with val_acc available, skipping.\n",
            "Validation data is not available. Skipping metrics calculation.\n",
            "340/340 [==============================] - 63s 184ms/step - loss: 0.7806 - accuracy: 0.9227 - val_loss: 0.7551 - val_accuracy: 0.9339\n",
            "Epoch 11/30\n",
            "340/340 [==============================] - ETA: 0s - loss: 0.7625 - accuracy: 0.9243WARNING:tensorflow:Can save best model only with val_acc available, skipping.\n",
            "Validation data is not available. Skipping metrics calculation.\n",
            "340/340 [==============================] - 62s 183ms/step - loss: 0.7625 - accuracy: 0.9243 - val_loss: 0.7233 - val_accuracy: 0.9265\n",
            "Epoch 12/30\n",
            "340/340 [==============================] - ETA: 0s - loss: 0.7635 - accuracy: 0.9240WARNING:tensorflow:Can save best model only with val_acc available, skipping.\n",
            "Validation data is not available. Skipping metrics calculation.\n",
            "340/340 [==============================] - 71s 208ms/step - loss: 0.7635 - accuracy: 0.9240 - val_loss: 0.7315 - val_accuracy: 0.9331\n",
            "Epoch 13/30\n",
            "340/340 [==============================] - ETA: 0s - loss: 0.7281 - accuracy: 0.9277WARNING:tensorflow:Can save best model only with val_acc available, skipping.\n",
            "Validation data is not available. Skipping metrics calculation.\n",
            "340/340 [==============================] - 80s 236ms/step - loss: 0.7281 - accuracy: 0.9277 - val_loss: 0.6971 - val_accuracy: 0.9313\n",
            "Epoch 14/30\n",
            "340/340 [==============================] - ETA: 0s - loss: 0.7324 - accuracy: 0.9251WARNING:tensorflow:Can save best model only with val_acc available, skipping.\n",
            "Validation data is not available. Skipping metrics calculation.\n",
            "340/340 [==============================] - 82s 240ms/step - loss: 0.7324 - accuracy: 0.9251 - val_loss: 0.7251 - val_accuracy: 0.9251\n",
            "Epoch 15/30\n",
            "340/340 [==============================] - ETA: 0s - loss: 0.7422 - accuracy: 0.9243WARNING:tensorflow:Can save best model only with val_acc available, skipping.\n",
            "Validation data is not available. Skipping metrics calculation.\n",
            "340/340 [==============================] - 88s 259ms/step - loss: 0.7422 - accuracy: 0.9243 - val_loss: 0.7585 - val_accuracy: 0.9140\n",
            "Training completed in 1072.752656 seconds\n"
          ]
        }
      ],
      "source": [
        "from sklearn.metrics import roc_auc_score\n",
        "import numpy as np\n",
        "from keras.callbacks import ModelCheckpoint, TensorBoard, EarlyStopping\n",
        "\n",
        "# # Assuming y_test is one-hot encoded\n",
        "# # Convert one-hot encoded labels back to class indices\n",
        "# y_true = np.argmax(y_test, axis=1)\n",
        "\n",
        "# # Predict probabilities for the test set\n",
        "# y_pred_prob = model.predict(X_test)\n",
        "\n",
        "# # Initialize an array to store AUC scores for each class\n",
        "# class_auc_scores = []\n",
        "\n",
        "# # Calculate AUC score for each class\n",
        "# for i in range(y_test.shape[1]):\n",
        "#     auc_score_class_i = roc_auc_score(y_true == i, y_pred_prob[:, i])\n",
        "#     class_auc_scores.append(auc_score_class_i)\n",
        "\n",
        "# # Print AUC scores for each class\n",
        "# for i, auc_score_class_i in enumerate(class_auc_scores):\n",
        "#     print(f\"AUC Score for Class {i}: {auc_score_class_i}\")\n",
        "\n",
        "# # Optionally, you can calculate the average AUC across all classes\n",
        "# average_auc_score = np.mean(class_auc_scores)\n",
        "# print(\"Average AUC Score:\", average_auc_score)\n",
        "\n",
        "nb_epoch = 30\n",
        "batch_size = 128\n",
        "\n",
        "t_ini = datetime.datetime.now()\n",
        "\n",
        "cp = ModelCheckpoint(filepath=\"tagger.h5\",\n",
        "                     monitor='val_acc',\n",
        "                     save_best_only=True,\n",
        "                     verbose=1)\n",
        "\n",
        "tb = TensorBoard(log_dir='./logs',\n",
        "                histogram_freq=0,\n",
        "                write_graph=True,\n",
        "                write_images=True)\n",
        "\n",
        "early_stopping = EarlyStopping(monitor = 'val_accuracy', patience = 5)\n",
        "\n",
        "history = model.fit(X_train, y_train,\n",
        "                    epochs=nb_epoch,\n",
        "                    batch_size=batch_size,\n",
        "                    shuffle=True,\n",
        "                    validation_data=(X_val, y_val),\n",
        "                    verbose=1,\n",
        "                    callbacks=[cp, tb, early_stopping, mymetrics])\n",
        "\n",
        "t_fin = datetime.datetime.now()\n",
        "print('Training completed in {} seconds'.format((t_fin - t_ini).total_seconds()))"
      ]
    },
    {
      "cell_type": "markdown",
      "metadata": {
        "id": "Qc9irMvUp0AK"
      },
      "source": [
        "### Model Fitting"
      ]
    },
    {
      "cell_type": "code",
      "execution_count": 72,
      "metadata": {
        "colab": {
          "base_uri": "https://localhost:8080/"
        },
        "id": "tUvooPDJp20G",
        "outputId": "d4f91dc1-f97a-45fa-c09a-957dd7a3c48b"
      },
      "outputs": [
        {
          "name": "stdout",
          "output_type": "stream",
          "text": [
            "The best epoch in serial order is:  9\n"
          ]
        }
      ],
      "source": [
        "# Find the key corresponding to validation accuracy\n",
        "val_acc_key = 'val_accuracy' if 'val_accuracy' in history.history else 'val_acc'\n",
        "\n",
        "# Find the index of the maximum validation accuracy\n",
        "best_epoch = history.history[val_acc_key].index(max(history.history[val_acc_key]))\n",
        "\n",
        "# Print the best epoch index\n",
        "print('The best epoch in serial order is: ', best_epoch)\n"
      ]
    },
    {
      "cell_type": "code",
      "execution_count": 73,
      "metadata": {
        "colab": {
          "base_uri": "https://localhost:8080/"
        },
        "id": "USX889O-p4rY",
        "outputId": "0364be1a-bb15-4e74-da02-821a391b6f51"
      },
      "outputs": [
        {
          "name": "stdout",
          "output_type": "stream",
          "text": [
            "(43503, 30206)\n",
            "(2722, 30206)\n",
            "(43503, 17)\n",
            "(2722, 17)\n"
          ]
        }
      ],
      "source": [
        "print(X_train.shape)\n",
        "print(X_val.shape)\n",
        "print(y_train.shape)\n",
        "print(y_val.shape)"
      ]
    },
    {
      "cell_type": "code",
      "execution_count": 74,
      "metadata": {
        "id": "VL45HHTttZpL"
      },
      "outputs": [],
      "source": [
        "X_train = vstack((X_train, X_val)).tocsr()\n",
        "y_train = np.append(y_train, y_val, axis=0)"
      ]
    },
    {
      "cell_type": "code",
      "execution_count": 75,
      "metadata": {
        "colab": {
          "base_uri": "https://localhost:8080/"
        },
        "id": "Ryy5wzWQ8TX-",
        "outputId": "8922a5e2-d477-4a0c-8989-db203a5f1a3d"
      },
      "outputs": [
        {
          "name": "stdout",
          "output_type": "stream",
          "text": [
            "107/107 [==============================] - 2s 21ms/step\n"
          ]
        }
      ],
      "source": [
        "y_pred = model.predict(X_test)"
      ]
    },
    {
      "cell_type": "markdown",
      "metadata": {
        "id": "7bQsnJfBtdaT"
      },
      "source": [
        "## Re-instantiation"
      ]
    },
    {
      "cell_type": "markdown",
      "metadata": {
        "id": "pb4dgfA2A5Uq"
      },
      "source": [
        "##### Added L2 Regularization"
      ]
    },
    {
      "cell_type": "code",
      "execution_count": 76,
      "metadata": {
        "id": "M8WivaZhta8Q"
      },
      "outputs": [
        {
          "name": "stdout",
          "output_type": "stream",
          "text": [
            "Model: \"sequential_1\"\n",
            "_________________________________________________________________\n",
            " Layer (type)                Output Shape              Param #   \n",
            "=================================================================\n",
            " dense_3 (Dense)             (None, 200)               6041400   \n",
            "                                                                 \n",
            " batch_normalization_2 (Bat  (None, 200)               800       \n",
            " chNormalization)                                                \n",
            "                                                                 \n",
            " dropout_2 (Dropout)         (None, 200)               0         \n",
            "                                                                 \n",
            " dense_4 (Dense)             (None, 64)                12864     \n",
            "                                                                 \n",
            " batch_normalization_3 (Bat  (None, 64)                256       \n",
            " chNormalization)                                                \n",
            "                                                                 \n",
            " dropout_3 (Dropout)         (None, 64)                0         \n",
            "                                                                 \n",
            " dense_5 (Dense)             (None, 17)                1105      \n",
            "                                                                 \n",
            "=================================================================\n",
            "Total params: 6056425 (23.10 MB)\n",
            "Trainable params: 6055897 (23.10 MB)\n",
            "Non-trainable params: 528 (2.06 KB)\n",
            "_________________________________________________________________\n"
          ]
        }
      ],
      "source": [
        "from keras import regularizers\n",
        "from keras.layers import LeakyReLU\n",
        "\n",
        "model = Sequential()\n",
        "model.add(Dense(200, activation=LeakyReLU(alpha=0.1), input_dim=X_train.shape[1], kernel_regularizer=regularizers.l2(0.01)))\n",
        "model.add(BatchNormalization())\n",
        "model.add(Dropout(0.5))\n",
        "\n",
        "model.add(Dense(64, activation=LeakyReLU(alpha=0.1), kernel_regularizer=regularizers.l2(0.01)))\n",
        "model.add(BatchNormalization())\n",
        "model.add(Dropout(0.4))\n",
        "model.add(Dense(y_train.shape[1], activation='softmax'))\n",
        "\n",
        "model.compile(optimizer='adam', loss='categorical_crossentropy', metrics=['accuracy'])\n",
        "model.summary()\n",
        "\n",
        "# model.add(Dense(200, activation='relu', input_dim=X_train.shape[1], kernel_regularizer=regularizers.l2(0.01)))\n",
        "# model.add(Dropout(0.5))\n",
        "\n",
        "# model.add(Dense(64, activation='relu', kernel_regularizer=regularizers.l2(0.01)))\n",
        "# model.add(Dropout(0.4))\n",
        "\n",
        "# activation=LeakyReLU(alpha=0.1)\n"
      ]
    },
    {
      "cell_type": "markdown",
      "metadata": {
        "id": "nMYKcdXi_4VM"
      },
      "source": [
        "#### Learning Rate Schedule (LR)"
      ]
    },
    {
      "cell_type": "code",
      "execution_count": 77,
      "metadata": {
        "id": "PtGFl6Nt_X1r"
      },
      "outputs": [],
      "source": [
        "from keras.callbacks import ReduceLROnPlateau\n",
        "\n",
        "reduce_lr = ReduceLROnPlateau(monitor='val_loss', factor=0.2, patience=5, min_lr=0.001)"
      ]
    },
    {
      "cell_type": "code",
      "execution_count": 78,
      "metadata": {
        "colab": {
          "base_uri": "https://localhost:8080/"
        },
        "id": "d1xcmcp_tkoz",
        "outputId": "01cfa1a5-fc32-4292-c67f-b958e0c720e4"
      },
      "outputs": [
        {
          "name": "stdout",
          "output_type": "stream",
          "text": [
            "Epoch 1/10\n",
            "362/362 [==============================] - 70s 187ms/step - loss: 1.5474 - accuracy: 0.8766 - val_loss: 1.1334 - val_accuracy: 0.9203 - lr: 0.0010\n",
            "Epoch 2/10\n",
            "362/362 [==============================] - 71s 196ms/step - loss: 0.9078 - accuracy: 0.9187 - val_loss: 0.7912 - val_accuracy: 0.9416 - lr: 0.0010\n",
            "Epoch 3/10\n",
            "362/362 [==============================] - 77s 212ms/step - loss: 0.8317 - accuracy: 0.9217 - val_loss: 0.7325 - val_accuracy: 0.9342 - lr: 0.0010\n",
            "Epoch 4/10\n",
            "362/362 [==============================] - 86s 236ms/step - loss: 0.8246 - accuracy: 0.9202 - val_loss: 0.7528 - val_accuracy: 0.9317 - lr: 0.0010\n",
            "Epoch 5/10\n",
            "362/362 [==============================] - 81s 223ms/step - loss: 0.8056 - accuracy: 0.9219 - val_loss: 0.7024 - val_accuracy: 0.9431 - lr: 0.0010\n",
            "Epoch 6/10\n",
            "362/362 [==============================] - 76s 210ms/step - loss: 0.8027 - accuracy: 0.9216 - val_loss: 0.7244 - val_accuracy: 0.9383 - lr: 0.0010\n",
            "Epoch 7/10\n",
            "362/362 [==============================] - 68s 189ms/step - loss: 0.7880 - accuracy: 0.9229 - val_loss: 0.7135 - val_accuracy: 0.9467 - lr: 0.0010\n",
            "Epoch 8/10\n",
            "362/362 [==============================] - 68s 188ms/step - loss: 0.7890 - accuracy: 0.9227 - val_loss: 0.7269 - val_accuracy: 0.9357 - lr: 0.0010\n",
            "Epoch 9/10\n",
            "362/362 [==============================] - 72s 198ms/step - loss: 0.7830 - accuracy: 0.9231 - val_loss: 0.6740 - val_accuracy: 0.9427 - lr: 0.0010\n",
            "Epoch 10/10\n",
            "362/362 [==============================] - 70s 194ms/step - loss: 0.7618 - accuracy: 0.9246 - val_loss: 0.6694 - val_accuracy: 0.9412 - lr: 0.0010\n"
          ]
        },
        {
          "data": {
            "text/plain": [
              "<keras.src.callbacks.History at 0x1b1a953e710>"
            ]
          },
          "execution_count": 78,
          "metadata": {},
          "output_type": "execute_result"
        }
      ],
      "source": [
        "model.fit(X_train, y_train,\n",
        "                    epochs=best_epoch+1,\n",
        "                    batch_size=batch_size,\n",
        "                    verbose=1,\n",
        "                    validation_data=(X_val, y_val),\n",
        "                    callbacks=[reduce_lr]\n",
        "                   )\n",
        "# model.fit(X_train, y_train, epochs=epochs, batch_size=batch_size, validation_data=(X_val, y_val), callbacks=[reduce_lr])\n",
        "\n"
      ]
    },
    {
      "cell_type": "markdown",
      "metadata": {
        "id": "Wd00UROUuaN5"
      },
      "source": [
        "## Evaluation"
      ]
    },
    {
      "cell_type": "code",
      "execution_count": 79,
      "metadata": {
        "colab": {
          "base_uri": "https://localhost:8080/"
        },
        "id": "bobfyUy4uXJS",
        "outputId": "73613fe9-9cd9-4a8f-d4ef-2f37c43edab8"
      },
      "outputs": [
        {
          "name": "stderr",
          "output_type": "stream",
          "text": [
            "C:\\Users\\peter\\AppData\\Local\\Packages\\PythonSoftwareFoundation.Python.3.11_qbz5n2kfra8p0\\LocalCache\\local-packages\\Python311\\site-packages\\keras\\src\\engine\\training.py:3103: UserWarning: You are saving your model as an HDF5 file via `model.save()`. This file format is considered legacy. We recommend using instead the native Keras format, e.g. `model.save('my_model.keras')`.\n",
            "  saving_api.save_model(\n"
          ]
        }
      ],
      "source": [
        "model.save('tagger_final.h5')"
      ]
    },
    {
      "cell_type": "code",
      "execution_count": 80,
      "metadata": {
        "colab": {
          "base_uri": "https://localhost:8080/"
        },
        "id": "bU-GgApdue9z",
        "outputId": "d7da95d1-3f93-4359-8852-4e586e026110"
      },
      "outputs": [
        {
          "name": "stdout",
          "output_type": "stream",
          "text": [
            "107/107 [==============================] - 3s 31ms/step - loss: 0.7056 - accuracy: 0.9343\n"
          ]
        }
      ],
      "source": [
        "scores = model.evaluate(X_test, y_test, verbose=1)"
      ]
    },
    {
      "cell_type": "code",
      "execution_count": 81,
      "metadata": {
        "colab": {
          "base_uri": "https://localhost:8080/"
        },
        "id": "1jNKCbahuiby",
        "outputId": "c8632b10-c89e-48ed-dece-0c649df7f225"
      },
      "outputs": [
        {
          "name": "stdout",
          "output_type": "stream",
          "text": [
            "3408/3408 [==============================] - 12s 3ms/step\n"
          ]
        }
      ],
      "source": [
        "y_pred = model.predict(X_test, batch_size=1, verbose=1)"
      ]
    },
    {
      "cell_type": "code",
      "execution_count": 82,
      "metadata": {
        "colab": {
          "base_uri": "https://localhost:8080/"
        },
        "id": "AY7DxHrYuq9x",
        "outputId": "9c2cfc3b-0384-49f4-c4dc-f0b267358177"
      },
      "outputs": [
        {
          "name": "stdout",
          "output_type": "stream",
          "text": [
            "Accuracy: 0.9343\n",
            "f1-macro score: 0.7858\n"
          ]
        }
      ],
      "source": [
        "print(\"Accuracy: {0:.4f}\".format(scores[1]))\n",
        "print('f1-macro score: {0:.4f}'.format(f1_score(y_test.argmax(axis=1), y_pred.argmax(axis=1), average='macro')))\n"
      ]
    },
    {
      "cell_type": "markdown",
      "metadata": {
        "id": "BaiMlSEwWABZ"
      },
      "source": [
        "###### AUC Metric"
      ]
    },
    {
      "cell_type": "code",
      "execution_count": 84,
      "metadata": {
        "colab": {
          "base_uri": "https://localhost:8080/",
          "height": 400
        },
        "id": "IoXv1R5hVTO_",
        "outputId": "5327df82-605f-4f36-ba26-b3f1fdd25e29"
      },
      "outputs": [],
      "source": [
        "# from sklearn.metrics import roc_auc_score\n",
        "# # Calculate the AUC score\n",
        "# auc_score = roc_auc_score(y_val, y_pred)\n",
        "\n",
        "# # Print the AUC score\n",
        "# print(\"AUC Score:\", auc_score)"
      ]
    },
    {
      "cell_type": "markdown",
      "metadata": {
        "id": "jis7WyEju1XF"
      },
      "source": [
        "### Classification Report"
      ]
    },
    {
      "cell_type": "code",
      "execution_count": 85,
      "metadata": {
        "colab": {
          "base_uri": "https://localhost:8080/"
        },
        "id": "yHxmsA4Tute7",
        "outputId": "768794fe-843d-4be6-9c4b-547f02ef2391"
      },
      "outputs": [
        {
          "name": "stdout",
          "output_type": "stream",
          "text": [
            "              precision    recall  f1-score   support\n",
            "\n",
            "           0     0.8371    0.8296    0.8333       223\n",
            "           1     0.9381    0.9631    0.9505       488\n",
            "           2     0.9083    0.7734    0.8354       128\n",
            "           3     0.9398    1.0000    0.9689       234\n",
            "           4     1.0000    0.9479    0.9733        96\n",
            "           5     0.9884    0.9681    0.9781       439\n",
            "           6     0.0000    0.0000    0.0000         2\n",
            "           7     0.9623    0.9483    0.9552       754\n",
            "           8     1.0000    0.9016    0.9483        61\n",
            "           9     0.9636    0.8030    0.8760        66\n",
            "          10     0.9135    0.8716    0.8920       109\n",
            "          11     0.7604    0.8111    0.7849        90\n",
            "          12     0.9971    1.0000    0.9985       339\n",
            "          13     0.5968    0.7255    0.6549        51\n",
            "          15     0.8892    0.9601    0.9233       326\n",
            "          16     0.0000    0.0000    0.0000         2\n",
            "\n",
            "    accuracy                         0.9343      3408\n",
            "   macro avg     0.7934    0.7815    0.7858      3408\n",
            "weighted avg     0.9352    0.9343    0.9339      3408\n",
            "\n"
          ]
        },
        {
          "name": "stderr",
          "output_type": "stream",
          "text": [
            "C:\\Users\\peter\\AppData\\Local\\Packages\\PythonSoftwareFoundation.Python.3.11_qbz5n2kfra8p0\\LocalCache\\local-packages\\Python311\\site-packages\\sklearn\\metrics\\_classification.py:1471: UndefinedMetricWarning: Precision and F-score are ill-defined and being set to 0.0 in labels with no predicted samples. Use `zero_division` parameter to control this behavior.\n",
            "  _warn_prf(average, modifier, msg_start, len(result))\n",
            "C:\\Users\\peter\\AppData\\Local\\Packages\\PythonSoftwareFoundation.Python.3.11_qbz5n2kfra8p0\\LocalCache\\local-packages\\Python311\\site-packages\\sklearn\\metrics\\_classification.py:1471: UndefinedMetricWarning: Precision and F-score are ill-defined and being set to 0.0 in labels with no predicted samples. Use `zero_division` parameter to control this behavior.\n",
            "  _warn_prf(average, modifier, msg_start, len(result))\n",
            "C:\\Users\\peter\\AppData\\Local\\Packages\\PythonSoftwareFoundation.Python.3.11_qbz5n2kfra8p0\\LocalCache\\local-packages\\Python311\\site-packages\\sklearn\\metrics\\_classification.py:1471: UndefinedMetricWarning: Precision and F-score are ill-defined and being set to 0.0 in labels with no predicted samples. Use `zero_division` parameter to control this behavior.\n",
            "  _warn_prf(average, modifier, msg_start, len(result))\n"
          ]
        }
      ],
      "source": [
        "print(classification_report(y_test.argmax(axis=1), y_pred.argmax(axis=1), digits=4))"
      ]
    },
    {
      "cell_type": "code",
      "execution_count": 86,
      "metadata": {
        "colab": {
          "base_uri": "https://localhost:8080/"
        },
        "id": "NnMqqYiBuHA3",
        "outputId": "502bd57a-c858-4a7f-fcf0-1c28258f4893"
      },
      "outputs": [
        {
          "name": "stdout",
          "output_type": "stream",
          "text": [
            "Model: \"sequential_1\"\n",
            "_________________________________________________________________\n",
            " Layer (type)                Output Shape              Param #   \n",
            "=================================================================\n",
            " dense_3 (Dense)             (None, 200)               6041400   \n",
            "                                                                 \n",
            " batch_normalization_2 (Bat  (None, 200)               800       \n",
            " chNormalization)                                                \n",
            "                                                                 \n",
            " dropout_2 (Dropout)         (None, 200)               0         \n",
            "                                                                 \n",
            " dense_4 (Dense)             (None, 64)                12864     \n",
            "                                                                 \n",
            " batch_normalization_3 (Bat  (None, 64)                256       \n",
            " chNormalization)                                                \n",
            "                                                                 \n",
            " dropout_3 (Dropout)         (None, 64)                0         \n",
            "                                                                 \n",
            " dense_5 (Dense)             (None, 17)                1105      \n",
            "                                                                 \n",
            "=================================================================\n",
            "Total params: 6056425 (23.10 MB)\n",
            "Trainable params: 6055897 (23.10 MB)\n",
            "Non-trainable params: 528 (2.06 KB)\n",
            "_________________________________________________________________\n",
            "None\n"
          ]
        }
      ],
      "source": [
        "print(model.summary())"
      ]
    },
    {
      "cell_type": "markdown",
      "metadata": {
        "id": "vQBjv1PFu4sF"
      },
      "source": [
        "#### Common Mistakes"
      ]
    },
    {
      "cell_type": "code",
      "execution_count": 87,
      "metadata": {
        "id": "8bErn8WQu60h"
      },
      "outputs": [
        {
          "name": "stdout",
          "output_type": "stream",
          "text": [
            "Accuracy: 0.9343\n",
            "Total errors/Total words: 224/3408\n",
            "\n",
            "Most common errors: [('as', 19), ('to', 16), ('that', 10), ('appointed', 5), ('or', 4), ('everyone', 3), ('european', 3), ('part', 3), ('one', 3), ('long', 3), ('national', 3), ('justice', 3), ('general', 3), ('where', 3), ('otherwise', 2), ('is', 2), ('whether', 2), ('yes', 2), ('all', 2), ('this', 2)]\n"
          ]
        }
      ],
      "source": [
        "import collections\n",
        "k=0\n",
        "i2w = id2word(test_sentences)\n",
        "error_counter = collections.Counter()\n",
        "for i in range(X_test.shape[0]):\n",
        "    correct_tag_id = y_test.argmax(axis=1)\n",
        "    if y_pred.argmax(axis=1)[i]!=y_test.argmax(axis=1)[i]:\n",
        "        k += 1\n",
        "        word = i2w[i]\n",
        "        error_counter[word] += 1\n",
        "print('Accuracy: {0:.4f}'.format((len(i2w)-k)/len(i2w)))\n",
        "print('Total errors/Total words: {}/{}\\n'.format(k,len(i2w)))\n",
        "print('Most common errors:',error_counter.most_common(20))"
      ]
    },
    {
      "cell_type": "markdown",
      "metadata": {
        "id": "_tEbaalUu_uK"
      },
      "source": [
        "## Learning Curves"
      ]
    },
    {
      "cell_type": "code",
      "execution_count": 88,
      "metadata": {
        "id": "Z1yEimKVu_Wt"
      },
      "outputs": [
        {
          "data": {
            "image/png": "[encoded data removed]",
            "text/plain": [
              "<Figure size 640x480 with 1 Axes>"
            ]
          },
          "metadata": {},
          "output_type": "display_data"
        }
      ],
      "source": [
        "plt.plot(history.history['accuracy'])\n",
        "plt.plot(history.history['val_accuracy'])\n",
        "plt.title('model accuracy')\n",
        "plt.ylabel('accuracy')\n",
        "plt.xlabel('epoch')\n",
        "plt.legend(['train', 'test'], loc='upper left')\n",
        "plt.show()"
      ]
    },
    {
      "cell_type": "code",
      "execution_count": 89,
      "metadata": {
        "id": "11aYvXDFV3vO"
      },
      "outputs": [
        {
          "name": "stdout",
          "output_type": "stream",
          "text": [
            "dict_keys(['loss', 'accuracy', 'val_loss', 'val_accuracy'])\n"
          ]
        }
      ],
      "source": [
        "print(history.history.keys())"
      ]
    },
    {
      "cell_type": "code",
      "execution_count": 90,
      "metadata": {
        "id": "QGcoAE1yvIZz"
      },
      "outputs": [
        {
          "data": {
            "image/png": "[encoded data removed]",
            "text/plain": [
              "<Figure size 640x480 with 1 Axes>"
            ]
          },
          "metadata": {},
          "output_type": "display_data"
        }
      ],
      "source": [
        "# summarize history for loss\n",
        "plt.plot(history.history['loss'])\n",
        "plt.plot(history.history['val_loss'])\n",
        "plt.title('model loss')\n",
        "plt.ylabel('loss')\n",
        "plt.xlabel('epoch')\n",
        "plt.legend(['train', 'test'], loc='upper left')\n",
        "plt.show()"
      ]
    },
    {
      "cell_type": "code",
      "execution_count": 91,
      "metadata": {
        "id": "jFInFS4VWHe4"
      },
      "outputs": [],
      "source": [
        "cnf_matrix = confusion_matrix(y_test.argmax(axis=1), y_pred.argmax(axis=1))\n",
        "name='MLP'"
      ]
    },
    {
      "cell_type": "code",
      "execution_count": 92,
      "metadata": {
        "id": "vULg3evpWJrg"
      },
      "outputs": [
        {
          "data": {
            "image/png": "[encoded data removed]",
            "text/plain": [
              "<Figure size 1000x600 with 2 Axes>"
            ]
          },
          "metadata": {},
          "output_type": "display_data"
        }
      ],
      "source": [
        "plot_confusion_matrix(f1_score(y_test.argmax(axis=1), y_pred.argmax(axis=1), average='macro'), cnf_matrix, target_names=classes, title='Confusion matrix for '+name+' classifier', normalize=False)"
      ]
    },
    {
      "cell_type": "code",
      "execution_count": 93,
      "metadata": {
        "id": "jEDLqGsGLCjE"
      },
      "outputs": [
        {
          "name": "stderr",
          "output_type": "stream",
          "text": [
            "No artists with labels found to put in legend.  Note that artists whose label start with an underscore are ignored when legend() is called with no argument.\n"
          ]
        },
        {
          "data": {
            "image/png": "[encoded data removed]",
            "text/plain": [
              "<Figure size 800x600 with 1 Axes>"
            ]
          },
          "metadata": {},
          "output_type": "display_data"
        }
      ],
      "source": [
        "import matplotlib.pyplot as plt\n",
        "from sklearn.metrics import roc_curve, auc\n",
        "from sklearn.preprocessing import label_binarize\n",
        "from keras.models import Sequential\n",
        "from keras.layers import Dense, Dropout\n",
        "from itertools import cycle\n",
        "\n",
        "# Assuming X_train, y_train are your training data and labels\n",
        "# X_test, y_test are your test data and labels\n",
        "\n",
        "# Binarize the labels\n",
        "y_train_bin = label_binarize(y_train, classes=list(range(y_train.shape[1])))\n",
        "y_test_bin = label_binarize(y_test, classes=list(range(y_test.shape[1])))\n",
        "\n",
        "# Get the number of classes\n",
        "num_classes = y_train_bin.shape[1]\n",
        "\n",
        "# Plot ROC curve for each class\n",
        "plt.figure(figsize=(8, 6))\n",
        "colors = cycle(['aqua', 'darkorange', 'cornflowerblue', 'red', 'green'])  # Add more colors if needed\n",
        "\n",
        "plt.plot([0, 1], [0, 1], 'k--')  # Random guess line\n",
        "plt.xlabel('False Positive Rate')\n",
        "plt.ylabel('True Positive Rate')\n",
        "plt.title('Receiver Operating Characteristic (ROC) Curve')\n",
        "plt.legend(loc='lower right')\n",
        "plt.show()\n"
      ]
    }
  ],
  "metadata": {
    "accelerator": "GPU",
    "colab": {
      "gpuType": "T4",
      "provenance": []
    },
    "kernelspec": {
      "display_name": "Python 3",
      "name": "python3"
    },
    "language_info": {
      "codemirror_mode": {
        "name": "ipython",
        "version": 3
      },
      "file_extension": ".py",
      "mimetype": "text/x-python",
      "name": "python",
      "nbconvert_exporter": "python",
      "pygments_lexer": "ipython3",
      "version": "3.11.6"
    }
  },
  "nbformat": 4,
  "nbformat_minor": 0
}
